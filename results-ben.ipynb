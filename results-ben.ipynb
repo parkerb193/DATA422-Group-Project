{
 "cells": [
  {
   "cell_type": "markdown",
   "metadata": {},
   "source": [
    "## Results Data Scraping Notebook\n",
    "\n",
    "This notebook uses links in the event_links.csv file to scrape the results table on each page, wrangle those results, and save them as a csv."
   ]
  },
  {
   "cell_type": "markdown",
   "metadata": {},
   "source": [
    "### Library Imports"
   ]
  },
  {
   "cell_type": "code",
   "execution_count": 25,
   "metadata": {},
   "outputs": [],
   "source": [
    "using CSV\n",
    "using DataFrames\n",
    "using HTTP, Gumbo, Cascadia\n",
    "using DataFrames\n",
    "using DataStructures: OrderedDict"
   ]
  },
  {
   "cell_type": "markdown",
   "metadata": {},
   "source": [
    "### Scraping Results"
   ]
  },
  {
   "cell_type": "code",
   "execution_count": 26,
   "metadata": {},
   "outputs": [
    {
     "data": {
      "text/html": [
       "<div class=\"data-frame\"><p>22 rows × 3 columns</p><table class=\"data-frame\"><thead><tr><th></th><th>Column1</th><th>Event_Id</th><th>Link</th></tr><tr><th></th><th title=\"Int64\">Int64</th><th title=\"Int64\">Int64</th><th title=\"String\">String</th></tr></thead><tbody><tr><th>1</th><td>1</td><td>1</td><td>https://results.runningevents.co.nz/list/tauranga/2022/21km</td></tr><tr><th>2</th><td>2</td><td>1</td><td>https://results.runningevents.co.nz/list/tauranga/2022/10km</td></tr><tr><th>3</th><td>3</td><td>2</td><td>https://results.runningevents.co.nz/list/devonport/2022/21km</td></tr><tr><th>4</th><td>4</td><td>2</td><td>https://results.runningevents.co.nz/list/devonport/2022/10km</td></tr><tr><th>5</th><td>5</td><td>3</td><td>https://results.runningevents.co.nz/list/runorewa/2022/15km</td></tr><tr><th>6</th><td>6</td><td>3</td><td>https://results.runningevents.co.nz/list/runorewa/2022/10km</td></tr><tr><th>7</th><td>7</td><td>4</td><td>https://results.runningevents.co.nz/list/ccwellington/2020/5km</td></tr><tr><th>8</th><td>8</td><td>5</td><td>https://results.runningevents.co.nz/list/ccchristchurch/2021/5km</td></tr><tr><th>9</th><td>9</td><td>6</td><td>https://results.runningevents.co.nz/list/ccauckland/2020/5km</td></tr><tr><th>10</th><td>10</td><td>7</td><td>https://results.runningevents.co.nz/list/runthepoint/2021r2/15km</td></tr><tr><th>11</th><td>11</td><td>7</td><td>https://results.runningevents.co.nz/list/runthepoint/2021r2/15km</td></tr><tr><th>12</th><td>12</td><td>8</td><td>https://results.runningevents.co.nz/list/omaha/2021/21km</td></tr><tr><th>13</th><td>13</td><td>8</td><td>https://results.runningevents.co.nz/list/omaha/2021/10km</td></tr><tr><th>14</th><td>14</td><td>9</td><td>https://results.runningevents.co.nz/list/rundevonport/2022/15km</td></tr><tr><th>15</th><td>15</td><td>9</td><td>https://results.runningevents.co.nz/list/rundevonport/2022/10km</td></tr><tr><th>16</th><td>16</td><td>10</td><td>https://results.runningevents.co.nz/list/coatesville/2022/21km</td></tr><tr><th>17</th><td>17</td><td>11</td><td>https://results.runningevents.co.nz/list/maraetai/2022/21km</td></tr><tr><th>18</th><td>18</td><td>11</td><td>https://results.runningevents.co.nz/list/maraetai/2022/10km</td></tr><tr><th>19</th><td>19</td><td>12</td><td>https://results.runningevents.co.nz/list/runalbany/2022/15km</td></tr><tr><th>20</th><td>20</td><td>12</td><td>https://results.runningevents.co.nz/list/runalbany/2022/10km</td></tr><tr><th>21</th><td>21</td><td>13</td><td>https://results.runningevents.co.nz/list/waterfront/2022/21km</td></tr><tr><th>22</th><td>22</td><td>13</td><td>https://results.runningevents.co.nz/list/waterfront/2022/10km</td></tr></tbody></table></div>"
      ],
      "text/latex": [
       "\\begin{tabular}{r|ccc}\n",
       "\t& Column1 & Event\\_Id & Link\\\\\n",
       "\t\\hline\n",
       "\t& Int64 & Int64 & String\\\\\n",
       "\t\\hline\n",
       "\t1 & 1 & 1 & https://results.runningevents.co.nz/list/tauranga/2022/21km \\\\\n",
       "\t2 & 2 & 1 & https://results.runningevents.co.nz/list/tauranga/2022/10km \\\\\n",
       "\t3 & 3 & 2 & https://results.runningevents.co.nz/list/devonport/2022/21km \\\\\n",
       "\t4 & 4 & 2 & https://results.runningevents.co.nz/list/devonport/2022/10km \\\\\n",
       "\t5 & 5 & 3 & https://results.runningevents.co.nz/list/runorewa/2022/15km \\\\\n",
       "\t6 & 6 & 3 & https://results.runningevents.co.nz/list/runorewa/2022/10km \\\\\n",
       "\t7 & 7 & 4 & https://results.runningevents.co.nz/list/ccwellington/2020/5km \\\\\n",
       "\t8 & 8 & 5 & https://results.runningevents.co.nz/list/ccchristchurch/2021/5km \\\\\n",
       "\t9 & 9 & 6 & https://results.runningevents.co.nz/list/ccauckland/2020/5km \\\\\n",
       "\t10 & 10 & 7 & https://results.runningevents.co.nz/list/runthepoint/2021r2/15km \\\\\n",
       "\t11 & 11 & 7 & https://results.runningevents.co.nz/list/runthepoint/2021r2/15km \\\\\n",
       "\t12 & 12 & 8 & https://results.runningevents.co.nz/list/omaha/2021/21km \\\\\n",
       "\t13 & 13 & 8 & https://results.runningevents.co.nz/list/omaha/2021/10km \\\\\n",
       "\t14 & 14 & 9 & https://results.runningevents.co.nz/list/rundevonport/2022/15km \\\\\n",
       "\t15 & 15 & 9 & https://results.runningevents.co.nz/list/rundevonport/2022/10km \\\\\n",
       "\t16 & 16 & 10 & https://results.runningevents.co.nz/list/coatesville/2022/21km \\\\\n",
       "\t17 & 17 & 11 & https://results.runningevents.co.nz/list/maraetai/2022/21km \\\\\n",
       "\t18 & 18 & 11 & https://results.runningevents.co.nz/list/maraetai/2022/10km \\\\\n",
       "\t19 & 19 & 12 & https://results.runningevents.co.nz/list/runalbany/2022/15km \\\\\n",
       "\t20 & 20 & 12 & https://results.runningevents.co.nz/list/runalbany/2022/10km \\\\\n",
       "\t21 & 21 & 13 & https://results.runningevents.co.nz/list/waterfront/2022/21km \\\\\n",
       "\t22 & 22 & 13 & https://results.runningevents.co.nz/list/waterfront/2022/10km \\\\\n",
       "\\end{tabular}\n"
      ],
      "text/plain": [
       "\u001b[1m22×3 DataFrame\u001b[0m\n",
       "\u001b[1m Row \u001b[0m│\u001b[1m Column1 \u001b[0m\u001b[1m Event_Id \u001b[0m\u001b[1m Link                              \u001b[0m\n",
       "\u001b[1m     \u001b[0m│\u001b[90m Int64   \u001b[0m\u001b[90m Int64    \u001b[0m\u001b[90m String                            \u001b[0m\n",
       "─────┼──────────────────────────────────────────────────────\n",
       "   1 │       1         1  https://results.runningevents.co…\n",
       "   2 │       2         1  https://results.runningevents.co…\n",
       "   3 │       3         2  https://results.runningevents.co…\n",
       "   4 │       4         2  https://results.runningevents.co…\n",
       "   5 │       5         3  https://results.runningevents.co…\n",
       "   6 │       6         3  https://results.runningevents.co…\n",
       "   7 │       7         4  https://results.runningevents.co…\n",
       "   8 │       8         5  https://results.runningevents.co…\n",
       "   9 │       9         6  https://results.runningevents.co…\n",
       "  10 │      10         7  https://results.runningevents.co…\n",
       "  11 │      11         7  https://results.runningevents.co…\n",
       "  12 │      12         8  https://results.runningevents.co…\n",
       "  13 │      13         8  https://results.runningevents.co…\n",
       "  14 │      14         9  https://results.runningevents.co…\n",
       "  15 │      15         9  https://results.runningevents.co…\n",
       "  16 │      16        10  https://results.runningevents.co…\n",
       "  17 │      17        11  https://results.runningevents.co…\n",
       "  18 │      18        11  https://results.runningevents.co…\n",
       "  19 │      19        12  https://results.runningevents.co…\n",
       "  20 │      20        12  https://results.runningevents.co…\n",
       "  21 │      21        13  https://results.runningevents.co…\n",
       "  22 │      22        13  https://results.runningevents.co…"
      ]
     },
     "execution_count": 26,
     "metadata": {},
     "output_type": "execute_result"
    }
   ],
   "source": [
    "# Read in events.csv\n",
    "event_links = CSV.read(\"event_links.csv\", DataFrame)\n",
    "event_links"
   ]
  },
  {
   "cell_type": "code",
   "execution_count": 27,
   "metadata": {},
   "outputs": [
    {
     "data": {
      "text/plain": [
       "extract_table (generic function with 1 method)"
      ]
     },
     "execution_count": 27,
     "metadata": {},
     "output_type": "execute_result"
    }
   ],
   "source": [
    "# Function that converts the HTML table on a page to a dataframe\n",
    "# Code used from here: https://gist.github.com/scls19fr/9ea2fd021d5dd9a97271da317bff6533\n",
    "function extract_table(table_results)\n",
    "\n",
    "    tables = DataFrame[]\n",
    "\n",
    "    for helm_table in table_results\n",
    "        column_names = String[]\n",
    "        d_table = OrderedDict{String, Vector{String}}()\n",
    "        for (i, row) in enumerate(eachmatch(Selector(\"tr\"), helm_table))\n",
    "            if (i == 1)\n",
    "                    for (j, colh) in enumerate(eachmatch(Selector(\"th\"), row))\n",
    "                        colh_text = strip(nodeText(colh))\n",
    "                        while (colh_text in column_names)  # Column header must be unique\n",
    "                            colh_text = colh_text * \"_2\"\n",
    "                        end\n",
    "                        push!(column_names, colh_text)\n",
    "                end\n",
    "            else\n",
    "                if (i == 2)\n",
    "                    for colname in column_names\n",
    "                        d_table[colname] = Vector{String}()\n",
    "                    end\n",
    "                end\n",
    "                for (j, col) in enumerate(eachmatch(Selector(\"td\"), row))\n",
    "                    col_text = strip(nodeText(col))\n",
    "                    colname = column_names[j]\n",
    "                    push!(d_table[colname], col_text)\n",
    "                end\n",
    "            end\n",
    "        end\n",
    "        df = DataFrame(d_table)\n",
    "        push!(tables, df)\n",
    "    end\n",
    "    \n",
    "    return tables[1]\n",
    "\n",
    "end"
   ]
  },
  {
   "cell_type": "code",
   "execution_count": 28,
   "metadata": {},
   "outputs": [],
   "source": [
    "# Initialise array to hold dataframes\n",
    "results_dfs = Array{DataFrame}(undef, size(event_links, 1))\n",
    "\n",
    "# Iterate over each link \n",
    "for i in 1:size(event_links, 1)\n",
    "    \n",
    "    # Fetch the page\n",
    "    results_page = HTTP.get(event_links[i, 3])\n",
    "    \n",
    "    # Obtain the body section of the response\n",
    "    parsed_page = results_page.body |>\n",
    "        String |>\n",
    "        parsehtml\n",
    "    \n",
    "    # Extract the table node from the XML document\n",
    "    table_results = eachmatch(Selector(\"table\"), parsed_page.root)\n",
    "    \n",
    "    # Extract the table \n",
    "    table_df = extract_table(table_results)\n",
    "    \n",
    "    # Add the Event_Id to all rows in the dataframe\n",
    "    table_df[:, \"Event_Id\"] .= event_links[i, 2]\n",
    "    \n",
    "    # Add the table to the results array\n",
    "    results_dfs[i] = table_df\n",
    "       \n",
    "end"
   ]
  },
  {
   "cell_type": "markdown",
   "metadata": {},
   "source": [
    "### Wrangling the Data"
   ]
  },
  {
   "cell_type": "code",
   "execution_count": 29,
   "metadata": {},
   "outputs": [],
   "source": [
    "result_df = results_dfs[1] \n",
    "\n",
    "# Iteratively build the results dataframe\n",
    "for i in 2:size(results_dfs, 1)\n",
    "   result_df = vcat(result_df, results_dfs[i])\n",
    "end"
   ]
  },
  {
   "cell_type": "code",
   "execution_count": 30,
   "metadata": {},
   "outputs": [
    {
     "data": {
      "text/html": [
       "<div class=\"data-frame\"><p>6,605 rows × 11 columns (omitted printing of 3 columns)</p><table class=\"data-frame\"><thead><tr><th></th><th>#</th><th>Bib</th><th>Name</th><th>Time</th><th>Place</th><th>Gender</th><th>G/Pl</th><th>Division</th></tr><tr><th></th><th title=\"String\">String</th><th title=\"String\">String</th><th title=\"String\">String</th><th title=\"String\">String</th><th title=\"String\">String</th><th title=\"String\">String</th><th title=\"String\">String</th><th title=\"String\">String</th></tr></thead><tbody><tr><th>1</th><td></td><td>1623</td><td>Ben Twyman</td><td>01:14:22</td><td>1</td><td>Male</td><td>1</td><td>M3039</td></tr><tr><th>2</th><td></td><td>1588</td><td>Ewan Glassey</td><td>01:15:43</td><td>2</td><td>Male</td><td>2</td><td>M3039</td></tr><tr><th>3</th><td></td><td>7854</td><td>Joel Natzke</td><td>01:17:03</td><td>3</td><td>Male</td><td>3</td><td>M2029</td></tr><tr><th>4</th><td></td><td>1496</td><td>Brad Dixon</td><td>01:17:12</td><td>4</td><td>Male</td><td>4</td><td>M4049</td></tr><tr><th>5</th><td></td><td>7880</td><td>Eva Goodisson</td><td>01:17:25</td><td>5</td><td>Female</td><td>1</td><td>F2029</td></tr><tr><th>6</th><td></td><td>1399</td><td>Duncan Baxter</td><td>01:19:30</td><td>6</td><td>Male</td><td>5</td><td>M3039</td></tr><tr><th>7</th><td></td><td>1408</td><td>Quintin Moolman</td><td>01:20:14</td><td>7</td><td>Male</td><td>6</td><td>M3039</td></tr><tr><th>8</th><td></td><td>1630</td><td>Luke Williams</td><td>01:20:20</td><td>8</td><td>Male</td><td>7</td><td>M5059</td></tr><tr><th>9</th><td></td><td>1442</td><td>Adam Hazlett</td><td>01:20:38</td><td>9</td><td>Male</td><td>8</td><td>M4049</td></tr><tr><th>10</th><td></td><td>1576</td><td>clinton manderson</td><td>01:20:40</td><td>10</td><td>Male</td><td>9</td><td>M2029</td></tr><tr><th>11</th><td></td><td>7835</td><td>Dave Parsons</td><td>01:21:12</td><td>11</td><td>Male</td><td>10</td><td>M4049</td></tr><tr><th>12</th><td></td><td>1559</td><td>Kirsten Hall</td><td>01:21:41</td><td>12</td><td>Female</td><td>2</td><td>F3039</td></tr><tr><th>13</th><td></td><td>7829</td><td>James Sai Louie</td><td>01:21:50</td><td>13</td><td>Male</td><td>11</td><td>M3039</td></tr><tr><th>14</th><td></td><td>1475</td><td>Bryan Beneke</td><td>01:22:14</td><td>14</td><td>Male</td><td>12</td><td>M3039</td></tr><tr><th>15</th><td></td><td>1456</td><td>Thomas Sutherland</td><td>01:22:28</td><td>15</td><td>Male</td><td>13</td><td>M3039</td></tr><tr><th>16</th><td></td><td>0626</td><td>Romain Groleau</td><td>01:22:47</td><td>16</td><td>Male</td><td>14</td><td>M4049</td></tr><tr><th>17</th><td></td><td>1618</td><td>Simon Morbey</td><td>01:23:03</td><td>17</td><td>Male</td><td>15</td><td>M2029</td></tr><tr><th>18</th><td></td><td>7865</td><td>Josh Gloyn</td><td>01:23:08</td><td>18</td><td>Male</td><td>16</td><td>M0019</td></tr><tr><th>19</th><td></td><td>1446</td><td>Max Sharpe</td><td>01:24:43</td><td>19</td><td>Male</td><td>17</td><td>M2029</td></tr><tr><th>20</th><td></td><td>1190</td><td>Nick Hulme</td><td>01:24:48</td><td>20</td><td>Male</td><td>18</td><td>M3039</td></tr><tr><th>21</th><td></td><td>1591</td><td>Nic Mills</td><td>01:25:03</td><td>21</td><td>Male</td><td>19</td><td>M3039</td></tr><tr><th>22</th><td></td><td>0673</td><td>Josh Oakley</td><td>01:25:18</td><td>22</td><td>Male</td><td>20</td><td>M2029</td></tr><tr><th>23</th><td></td><td>7834</td><td>Hayden Odonnell</td><td>01:25:25</td><td>23</td><td>Male</td><td>21</td><td>M3039</td></tr><tr><th>24</th><td></td><td>7859</td><td>Emmett Boyle</td><td>01:25:39</td><td>24</td><td>Male</td><td>22</td><td>M3039</td></tr><tr><th>25</th><td></td><td>1432</td><td>Liam Cunliffe</td><td>01:26:28</td><td>25</td><td>Male</td><td>23</td><td>M2029</td></tr><tr><th>26</th><td></td><td>7857</td><td>Steve Swallow</td><td>01:26:33</td><td>26</td><td>Male</td><td>24</td><td>M5059</td></tr><tr><th>27</th><td></td><td>1166</td><td>Tom Bland</td><td>01:26:54</td><td>27</td><td>Male</td><td>25</td><td>M4049</td></tr><tr><th>28</th><td></td><td>1403</td><td>Carl Byrne</td><td>01:27:09</td><td>28</td><td>Male</td><td>26</td><td>M3039</td></tr><tr><th>29</th><td></td><td>1564</td><td>Matthew  Moorehead</td><td>01:27:10</td><td>29</td><td>Male</td><td>27</td><td>M4049</td></tr><tr><th>30</th><td></td><td>1083</td><td>Ben McKay</td><td>01:27:10</td><td>30</td><td>Male</td><td>28</td><td>M3039</td></tr><tr><th>&vellip;</th><td>&vellip;</td><td>&vellip;</td><td>&vellip;</td><td>&vellip;</td><td>&vellip;</td><td>&vellip;</td><td>&vellip;</td><td>&vellip;</td></tr></tbody></table></div>"
      ],
      "text/latex": [
       "\\begin{tabular}{r|ccccccccc}\n",
       "\t& \\# & Bib & Name & Time & Place & Gender & G/Pl & Division & \\\\\n",
       "\t\\hline\n",
       "\t& String & String & String & String & String & String & String & String & \\\\\n",
       "\t\\hline\n",
       "\t1 &  & 1623 & Ben Twyman & 01:14:22 & 1 & Male & 1 & M3039 & $\\dots$ \\\\\n",
       "\t2 &  & 1588 & Ewan Glassey & 01:15:43 & 2 & Male & 2 & M3039 & $\\dots$ \\\\\n",
       "\t3 &  & 7854 & Joel Natzke & 01:17:03 & 3 & Male & 3 & M2029 & $\\dots$ \\\\\n",
       "\t4 &  & 1496 & Brad Dixon & 01:17:12 & 4 & Male & 4 & M4049 & $\\dots$ \\\\\n",
       "\t5 &  & 7880 & Eva Goodisson & 01:17:25 & 5 & Female & 1 & F2029 & $\\dots$ \\\\\n",
       "\t6 &  & 1399 & Duncan Baxter & 01:19:30 & 6 & Male & 5 & M3039 & $\\dots$ \\\\\n",
       "\t7 &  & 1408 & Quintin Moolman & 01:20:14 & 7 & Male & 6 & M3039 & $\\dots$ \\\\\n",
       "\t8 &  & 1630 & Luke Williams & 01:20:20 & 8 & Male & 7 & M5059 & $\\dots$ \\\\\n",
       "\t9 &  & 1442 & Adam Hazlett & 01:20:38 & 9 & Male & 8 & M4049 & $\\dots$ \\\\\n",
       "\t10 &  & 1576 & clinton manderson & 01:20:40 & 10 & Male & 9 & M2029 & $\\dots$ \\\\\n",
       "\t11 &  & 7835 & Dave Parsons & 01:21:12 & 11 & Male & 10 & M4049 & $\\dots$ \\\\\n",
       "\t12 &  & 1559 & Kirsten Hall & 01:21:41 & 12 & Female & 2 & F3039 & $\\dots$ \\\\\n",
       "\t13 &  & 7829 & James Sai Louie & 01:21:50 & 13 & Male & 11 & M3039 & $\\dots$ \\\\\n",
       "\t14 &  & 1475 & Bryan Beneke & 01:22:14 & 14 & Male & 12 & M3039 & $\\dots$ \\\\\n",
       "\t15 &  & 1456 & Thomas Sutherland & 01:22:28 & 15 & Male & 13 & M3039 & $\\dots$ \\\\\n",
       "\t16 &  & 0626 & Romain Groleau & 01:22:47 & 16 & Male & 14 & M4049 & $\\dots$ \\\\\n",
       "\t17 &  & 1618 & Simon Morbey & 01:23:03 & 17 & Male & 15 & M2029 & $\\dots$ \\\\\n",
       "\t18 &  & 7865 & Josh Gloyn & 01:23:08 & 18 & Male & 16 & M0019 & $\\dots$ \\\\\n",
       "\t19 &  & 1446 & Max Sharpe & 01:24:43 & 19 & Male & 17 & M2029 & $\\dots$ \\\\\n",
       "\t20 &  & 1190 & Nick Hulme & 01:24:48 & 20 & Male & 18 & M3039 & $\\dots$ \\\\\n",
       "\t21 &  & 1591 & Nic Mills & 01:25:03 & 21 & Male & 19 & M3039 & $\\dots$ \\\\\n",
       "\t22 &  & 0673 & Josh Oakley & 01:25:18 & 22 & Male & 20 & M2029 & $\\dots$ \\\\\n",
       "\t23 &  & 7834 & Hayden Odonnell & 01:25:25 & 23 & Male & 21 & M3039 & $\\dots$ \\\\\n",
       "\t24 &  & 7859 & Emmett Boyle & 01:25:39 & 24 & Male & 22 & M3039 & $\\dots$ \\\\\n",
       "\t25 &  & 1432 & Liam Cunliffe & 01:26:28 & 25 & Male & 23 & M2029 & $\\dots$ \\\\\n",
       "\t26 &  & 7857 & Steve Swallow & 01:26:33 & 26 & Male & 24 & M5059 & $\\dots$ \\\\\n",
       "\t27 &  & 1166 & Tom Bland & 01:26:54 & 27 & Male & 25 & M4049 & $\\dots$ \\\\\n",
       "\t28 &  & 1403 & Carl Byrne & 01:27:09 & 28 & Male & 26 & M3039 & $\\dots$ \\\\\n",
       "\t29 &  & 1564 & Matthew  Moorehead & 01:27:10 & 29 & Male & 27 & M4049 & $\\dots$ \\\\\n",
       "\t30 &  & 1083 & Ben McKay & 01:27:10 & 30 & Male & 28 & M3039 & $\\dots$ \\\\\n",
       "\t$\\dots$ & $\\dots$ & $\\dots$ & $\\dots$ & $\\dots$ & $\\dots$ & $\\dots$ & $\\dots$ & $\\dots$ &  \\\\\n",
       "\\end{tabular}\n"
      ],
      "text/plain": [
       "\u001b[1m6605×11 DataFrame\u001b[0m\n",
       "\u001b[1m  Row \u001b[0m│\u001b[1m #      \u001b[0m\u001b[1m Bib    \u001b[0m\u001b[1m Name                \u001b[0m\u001b[1m Time     \u001b[0m\u001b[1m Place  \u001b[0m\u001b[1m Gender \u001b[0m\u001b[1m G/Pl   \u001b[0m\u001b[1m\u001b[0m ⋯\n",
       "\u001b[1m      \u001b[0m│\u001b[90m String \u001b[0m\u001b[90m String \u001b[0m\u001b[90m String              \u001b[0m\u001b[90m String   \u001b[0m\u001b[90m String \u001b[0m\u001b[90m String \u001b[0m\u001b[90m String \u001b[0m\u001b[90m\u001b[0m ⋯\n",
       "──────┼─────────────────────────────────────────────────────────────────────────\n",
       "    1 │         1623    Ben Twyman           01:14:22  1       Male    1       ⋯\n",
       "    2 │         1588    Ewan Glassey         01:15:43  2       Male    2\n",
       "    3 │         7854    Joel Natzke          01:17:03  3       Male    3\n",
       "    4 │         1496    Brad Dixon           01:17:12  4       Male    4\n",
       "    5 │         7880    Eva Goodisson        01:17:25  5       Female  1       ⋯\n",
       "    6 │         1399    Duncan Baxter        01:19:30  6       Male    5\n",
       "    7 │         1408    Quintin Moolman      01:20:14  7       Male    6\n",
       "    8 │         1630    Luke Williams        01:20:20  8       Male    7\n",
       "    9 │         1442    Adam Hazlett         01:20:38  9       Male    8       ⋯\n",
       "   10 │         1576    clinton manderson    01:20:40  10      Male    9\n",
       "   11 │         7835    Dave Parsons         01:21:12  11      Male    10\n",
       "  ⋮   │   ⋮       ⋮              ⋮              ⋮        ⋮       ⋮       ⋮     ⋱\n",
       " 6596 │         3349    Milan Rajpara        01:48:24  491     Male    207\n",
       " 6597 │         0600    Khodabhai Mangukiya  01:48:24  492     Male    208     ⋯\n",
       " 6598 │         0172    Jay Curtis           01:49:43  493     Male    209\n",
       " 6599 │         4124    Sam Curtis           01:49:43  494     Male    210\n",
       " 6600 │         4123    Guy Curtis           01:49:43  495     Male    211\n",
       " 6601 │         3275    Lasela Tugaga        01:51:13  496     Female  285     ⋯\n",
       " 6602 │         3114    Celeste Baker        01:51:13  497     Female  286\n",
       " 6603 │         3366    Percival  McLeod     01:51:54  498     Male    212\n",
       " 6604 │         3365    Imogen  McLeod       01:51:54  499     Female  287\n",
       " 6605 │         8703    Lisa Tremewan        01:52:56  500     Female  288     ⋯\n",
       "\u001b[36m                                                 4 columns and 6584 rows omitted\u001b[0m"
      ]
     },
     "execution_count": 30,
     "metadata": {},
     "output_type": "execute_result"
    }
   ],
   "source": [
    "result_df"
   ]
  },
  {
   "cell_type": "code",
   "execution_count": 31,
   "metadata": {},
   "outputs": [
    {
     "data": {
      "text/html": [
       "<div class=\"data-frame\"><p>5 rows × 9 columns</p><table class=\"data-frame\"><thead><tr><th></th><th>Bib</th><th>Name</th><th>Time</th><th>Place</th><th>Gender</th><th>G/Pl</th><th>Division</th><th>D/Pl</th><th>Event_Id</th></tr><tr><th></th><th title=\"String\">String</th><th title=\"String\">String</th><th title=\"String\">String</th><th title=\"String\">String</th><th title=\"String\">String</th><th title=\"String\">String</th><th title=\"String\">String</th><th title=\"String\">String</th><th title=\"Int64\">Int64</th></tr></thead><tbody><tr><th>1</th><td>1623</td><td>Ben Twyman</td><td>01:14:22</td><td>1</td><td>Male</td><td>1</td><td>M3039</td><td>1</td><td>1</td></tr><tr><th>2</th><td>1588</td><td>Ewan Glassey</td><td>01:15:43</td><td>2</td><td>Male</td><td>2</td><td>M3039</td><td>2</td><td>1</td></tr><tr><th>3</th><td>7854</td><td>Joel Natzke</td><td>01:17:03</td><td>3</td><td>Male</td><td>3</td><td>M2029</td><td>1</td><td>1</td></tr><tr><th>4</th><td>1496</td><td>Brad Dixon</td><td>01:17:12</td><td>4</td><td>Male</td><td>4</td><td>M4049</td><td>1</td><td>1</td></tr><tr><th>5</th><td>7880</td><td>Eva Goodisson</td><td>01:17:25</td><td>5</td><td>Female</td><td>1</td><td>F2029</td><td>1</td><td>1</td></tr></tbody></table></div>"
      ],
      "text/latex": [
       "\\begin{tabular}{r|ccccccccc}\n",
       "\t& Bib & Name & Time & Place & Gender & G/Pl & Division & D/Pl & Event\\_Id\\\\\n",
       "\t\\hline\n",
       "\t& String & String & String & String & String & String & String & String & Int64\\\\\n",
       "\t\\hline\n",
       "\t1 & 1623 & Ben Twyman & 01:14:22 & 1 & Male & 1 & M3039 & 1 & 1 \\\\\n",
       "\t2 & 1588 & Ewan Glassey & 01:15:43 & 2 & Male & 2 & M3039 & 2 & 1 \\\\\n",
       "\t3 & 7854 & Joel Natzke & 01:17:03 & 3 & Male & 3 & M2029 & 1 & 1 \\\\\n",
       "\t4 & 1496 & Brad Dixon & 01:17:12 & 4 & Male & 4 & M4049 & 1 & 1 \\\\\n",
       "\t5 & 7880 & Eva Goodisson & 01:17:25 & 5 & Female & 1 & F2029 & 1 & 1 \\\\\n",
       "\\end{tabular}\n"
      ],
      "text/plain": [
       "\u001b[1m5×9 DataFrame\u001b[0m\n",
       "\u001b[1m Row \u001b[0m│\u001b[1m Bib    \u001b[0m\u001b[1m Name          \u001b[0m\u001b[1m Time     \u001b[0m\u001b[1m Place  \u001b[0m\u001b[1m Gender \u001b[0m\u001b[1m G/Pl   \u001b[0m\u001b[1m Division \u001b[0m\u001b[1m D/Pl\u001b[0m ⋯\n",
       "\u001b[1m     \u001b[0m│\u001b[90m String \u001b[0m\u001b[90m String        \u001b[0m\u001b[90m String   \u001b[0m\u001b[90m String \u001b[0m\u001b[90m String \u001b[0m\u001b[90m String \u001b[0m\u001b[90m String   \u001b[0m\u001b[90m Stri\u001b[0m ⋯\n",
       "─────┼──────────────────────────────────────────────────────────────────────────\n",
       "   1 │ 1623    Ben Twyman     01:14:22  1       Male    1       M3039     1    ⋯\n",
       "   2 │ 1588    Ewan Glassey   01:15:43  2       Male    2       M3039     2\n",
       "   3 │ 7854    Joel Natzke    01:17:03  3       Male    3       M2029     1\n",
       "   4 │ 1496    Brad Dixon     01:17:12  4       Male    4       M4049     1\n",
       "   5 │ 7880    Eva Goodisson  01:17:25  5       Female  1       F2029     1    ⋯\n",
       "\u001b[36m                                                               2 columns omitted\u001b[0m"
      ]
     },
     "execution_count": 31,
     "metadata": {},
     "output_type": "execute_result"
    }
   ],
   "source": [
    "# Remove the '#' column as the information it is meant to contain is the same as the 'Place' column\n",
    "# Also remove the last column as it contains a link that will not be needed\n",
    "\n",
    "result_df = select!(result_df, Not([:\"#\", :\"\"]))\n",
    "\n",
    "first(result_df, 5)"
   ]
  },
  {
   "cell_type": "code",
   "execution_count": 32,
   "metadata": {},
   "outputs": [
    {
     "data": {
      "text/plain": [
       "\"results.csv\""
      ]
     },
     "execution_count": 32,
     "metadata": {},
     "output_type": "execute_result"
    }
   ],
   "source": [
    "# Write dataframe to a .csv file\n",
    "CSV.write(\"results.csv\", result_df)"
   ]
  }
 ],
 "metadata": {
  "kernelspec": {
   "display_name": "Julia 1.7.3",
   "language": "julia",
   "name": "julia-1.7"
  },
  "language_info": {
   "file_extension": ".jl",
   "mimetype": "application/julia",
   "name": "julia",
   "version": "1.7.3"
  }
 },
 "nbformat": 4,
 "nbformat_minor": 4
}
