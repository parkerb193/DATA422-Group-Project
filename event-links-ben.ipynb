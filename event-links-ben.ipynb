{
 "cells": [
  {
   "cell_type": "markdown",
   "metadata": {},
   "source": [
    "## Event Links Notebook\n",
    "\n",
    "This notebook uses the events.csv file to generate a list of links to the event results pages, and then saves these to a csv file. "
   ]
  },
  {
   "cell_type": "markdown",
   "metadata": {},
   "source": [
    "### Library Imports"
   ]
  },
  {
   "cell_type": "code",
   "execution_count": 12,
   "metadata": {
    "tags": []
   },
   "outputs": [],
   "source": [
    "library(tidyverse)\n",
    "library(sjmisc)\n",
    "library(stringr)\n",
    "library(glue)\n",
    "library(purrr)"
   ]
  },
  {
   "cell_type": "markdown",
   "metadata": {},
   "source": [
    "### Generating Links"
   ]
  },
  {
   "cell_type": "code",
   "execution_count": 13,
   "metadata": {},
   "outputs": [
    {
     "name": "stderr",
     "output_type": "stream",
     "text": [
      "\u001b[1m\u001b[22mNew names:\n",
      "\u001b[36m•\u001b[39m `` -> `...1`\n"
     ]
    },
    {
     "data": {
      "text/html": [
       "<table class=\"dataframe\">\n",
       "<caption>A spec_tbl_df: 13 × 7</caption>\n",
       "<thead>\n",
       "\t<tr><th scope=col>...1</th><th scope=col>Event</th><th scope=col>Link</th><th scope=col>Date</th><th scope=col>Participants</th><th scope=col>Location</th><th scope=col>City</th></tr>\n",
       "\t<tr><th scope=col>&lt;dbl&gt;</th><th scope=col>&lt;chr&gt;</th><th scope=col>&lt;chr&gt;</th><th scope=col>&lt;chr&gt;</th><th scope=col>&lt;dbl&gt;</th><th scope=col>&lt;chr&gt;</th><th scope=col>&lt;chr&gt;</th></tr>\n",
       "</thead>\n",
       "<tbody>\n",
       "\t<tr><td> 1</td><td>Tauranga Marathon               </td><td>https://taurangamarathon.nz          </td><td>18/09/2022</td><td>1570</td><td>Tauranga    </td><td>Tauranga    </td></tr>\n",
       "\t<tr><td> 2</td><td>Devonport Half Marathon         </td><td>https://devonporthalfmarathon.co.nz  </td><td>2/10/2022 </td><td>1268</td><td>Devonport   </td><td>Auckland    </td></tr>\n",
       "\t<tr><td> 3</td><td>Run Orewa                       </td><td>https://runorewa.nz                  </td><td>16/10/2022</td><td> 834</td><td>Orewa       </td><td>Auckland    </td></tr>\n",
       "\t<tr><td> 4</td><td>Corporate Challenge Wellington  </td><td>https://corporatechallenge.co.nz     </td><td>11/11/2020</td><td> 393</td><td>Wellington  </td><td>Wellington  </td></tr>\n",
       "\t<tr><td> 5</td><td>Corporate Challenge Christchurch</td><td>https://corporatechallenge.co.nz     </td><td>16/02/2022</td><td> 767</td><td>Christchurch</td><td>Christchurch</td></tr>\n",
       "\t<tr><td> 6</td><td>Corporate Challenge Auckland    </td><td>https://corporatechallenge.co.nz     </td><td>18/11/2020</td><td> 938</td><td>Auckland    </td><td>Auckland    </td></tr>\n",
       "\t<tr><td> 7</td><td>Run The Point                   </td><td>https://runthepoint.nz               </td><td>20/02/2022</td><td> 771</td><td>Hobsonville </td><td>Auckland    </td></tr>\n",
       "\t<tr><td> 8</td><td>Omaha Half Marathon             </td><td>https://omahahalfmarathon.co.nz      </td><td>27/03/2022</td><td>1689</td><td>Omaha       </td><td>Auckland    </td></tr>\n",
       "\t<tr><td> 9</td><td>Run Devonport                   </td><td>https://rundevonport.nz              </td><td>7/02/2022 </td><td> 768</td><td>Devonport   </td><td>Auckland    </td></tr>\n",
       "\t<tr><td>10</td><td>Coatesville Half Marathon       </td><td>https://coatesvillehalfmarathon.co.nz</td><td>13/02/2022</td><td>1270</td><td>Coatesville </td><td>Auckland    </td></tr>\n",
       "\t<tr><td>11</td><td>Maraetai Half Marathon          </td><td>https://maraetaihalfmarathon.co.nz   </td><td>13/03/2022</td><td>1359</td><td>Maraetai    </td><td>Auckland    </td></tr>\n",
       "\t<tr><td>12</td><td>Run Albany                      </td><td>https://runalbany.nz                 </td><td>20/03/2022</td><td> 792</td><td>Albany      </td><td>Auckland    </td></tr>\n",
       "\t<tr><td>13</td><td>Waterfront Half Marathon        </td><td>https://waterfronthalfmarathon.co.nz </td><td>10/04/2022</td><td>2147</td><td>Auckland    </td><td>Auckland    </td></tr>\n",
       "</tbody>\n",
       "</table>\n"
      ],
      "text/latex": [
       "A spec\\_tbl\\_df: 13 × 7\n",
       "\\begin{tabular}{lllllll}\n",
       " ...1 & Event & Link & Date & Participants & Location & City\\\\\n",
       " <dbl> & <chr> & <chr> & <chr> & <dbl> & <chr> & <chr>\\\\\n",
       "\\hline\n",
       "\t  1 & Tauranga Marathon                & https://taurangamarathon.nz           & 18/09/2022 & 1570 & Tauranga     & Tauranga    \\\\\n",
       "\t  2 & Devonport Half Marathon          & https://devonporthalfmarathon.co.nz   & 2/10/2022  & 1268 & Devonport    & Auckland    \\\\\n",
       "\t  3 & Run Orewa                        & https://runorewa.nz                   & 16/10/2022 &  834 & Orewa        & Auckland    \\\\\n",
       "\t  4 & Corporate Challenge Wellington   & https://corporatechallenge.co.nz      & 11/11/2020 &  393 & Wellington   & Wellington  \\\\\n",
       "\t  5 & Corporate Challenge Christchurch & https://corporatechallenge.co.nz      & 16/02/2022 &  767 & Christchurch & Christchurch\\\\\n",
       "\t  6 & Corporate Challenge Auckland     & https://corporatechallenge.co.nz      & 18/11/2020 &  938 & Auckland     & Auckland    \\\\\n",
       "\t  7 & Run The Point                    & https://runthepoint.nz                & 20/02/2022 &  771 & Hobsonville  & Auckland    \\\\\n",
       "\t  8 & Omaha Half Marathon              & https://omahahalfmarathon.co.nz       & 27/03/2022 & 1689 & Omaha        & Auckland    \\\\\n",
       "\t  9 & Run Devonport                    & https://rundevonport.nz               & 7/02/2022  &  768 & Devonport    & Auckland    \\\\\n",
       "\t 10 & Coatesville Half Marathon        & https://coatesvillehalfmarathon.co.nz & 13/02/2022 & 1270 & Coatesville  & Auckland    \\\\\n",
       "\t 11 & Maraetai Half Marathon           & https://maraetaihalfmarathon.co.nz    & 13/03/2022 & 1359 & Maraetai     & Auckland    \\\\\n",
       "\t 12 & Run Albany                       & https://runalbany.nz                  & 20/03/2022 &  792 & Albany       & Auckland    \\\\\n",
       "\t 13 & Waterfront Half Marathon         & https://waterfronthalfmarathon.co.nz  & 10/04/2022 & 2147 & Auckland     & Auckland    \\\\\n",
       "\\end{tabular}\n"
      ],
      "text/markdown": [
       "\n",
       "A spec_tbl_df: 13 × 7\n",
       "\n",
       "| ...1 &lt;dbl&gt; | Event &lt;chr&gt; | Link &lt;chr&gt; | Date &lt;chr&gt; | Participants &lt;dbl&gt; | Location &lt;chr&gt; | City &lt;chr&gt; |\n",
       "|---|---|---|---|---|---|---|\n",
       "|  1 | Tauranga Marathon                | https://taurangamarathon.nz           | 18/09/2022 | 1570 | Tauranga     | Tauranga     |\n",
       "|  2 | Devonport Half Marathon          | https://devonporthalfmarathon.co.nz   | 2/10/2022  | 1268 | Devonport    | Auckland     |\n",
       "|  3 | Run Orewa                        | https://runorewa.nz                   | 16/10/2022 |  834 | Orewa        | Auckland     |\n",
       "|  4 | Corporate Challenge Wellington   | https://corporatechallenge.co.nz      | 11/11/2020 |  393 | Wellington   | Wellington   |\n",
       "|  5 | Corporate Challenge Christchurch | https://corporatechallenge.co.nz      | 16/02/2022 |  767 | Christchurch | Christchurch |\n",
       "|  6 | Corporate Challenge Auckland     | https://corporatechallenge.co.nz      | 18/11/2020 |  938 | Auckland     | Auckland     |\n",
       "|  7 | Run The Point                    | https://runthepoint.nz                | 20/02/2022 |  771 | Hobsonville  | Auckland     |\n",
       "|  8 | Omaha Half Marathon              | https://omahahalfmarathon.co.nz       | 27/03/2022 | 1689 | Omaha        | Auckland     |\n",
       "|  9 | Run Devonport                    | https://rundevonport.nz               | 7/02/2022  |  768 | Devonport    | Auckland     |\n",
       "| 10 | Coatesville Half Marathon        | https://coatesvillehalfmarathon.co.nz | 13/02/2022 | 1270 | Coatesville  | Auckland     |\n",
       "| 11 | Maraetai Half Marathon           | https://maraetaihalfmarathon.co.nz    | 13/03/2022 | 1359 | Maraetai     | Auckland     |\n",
       "| 12 | Run Albany                       | https://runalbany.nz                  | 20/03/2022 |  792 | Albany       | Auckland     |\n",
       "| 13 | Waterfront Half Marathon         | https://waterfronthalfmarathon.co.nz  | 10/04/2022 | 2147 | Auckland     | Auckland     |\n",
       "\n"
      ],
      "text/plain": [
       "   ...1 Event                            Link                                 \n",
       "1   1   Tauranga Marathon                https://taurangamarathon.nz          \n",
       "2   2   Devonport Half Marathon          https://devonporthalfmarathon.co.nz  \n",
       "3   3   Run Orewa                        https://runorewa.nz                  \n",
       "4   4   Corporate Challenge Wellington   https://corporatechallenge.co.nz     \n",
       "5   5   Corporate Challenge Christchurch https://corporatechallenge.co.nz     \n",
       "6   6   Corporate Challenge Auckland     https://corporatechallenge.co.nz     \n",
       "7   7   Run The Point                    https://runthepoint.nz               \n",
       "8   8   Omaha Half Marathon              https://omahahalfmarathon.co.nz      \n",
       "9   9   Run Devonport                    https://rundevonport.nz              \n",
       "10 10   Coatesville Half Marathon        https://coatesvillehalfmarathon.co.nz\n",
       "11 11   Maraetai Half Marathon           https://maraetaihalfmarathon.co.nz   \n",
       "12 12   Run Albany                       https://runalbany.nz                 \n",
       "13 13   Waterfront Half Marathon         https://waterfronthalfmarathon.co.nz \n",
       "   Date       Participants Location     City        \n",
       "1  18/09/2022 1570         Tauranga     Tauranga    \n",
       "2  2/10/2022  1268         Devonport    Auckland    \n",
       "3  16/10/2022  834         Orewa        Auckland    \n",
       "4  11/11/2020  393         Wellington   Wellington  \n",
       "5  16/02/2022  767         Christchurch Christchurch\n",
       "6  18/11/2020  938         Auckland     Auckland    \n",
       "7  20/02/2022  771         Hobsonville  Auckland    \n",
       "8  27/03/2022 1689         Omaha        Auckland    \n",
       "9  7/02/2022   768         Devonport    Auckland    \n",
       "10 13/02/2022 1270         Coatesville  Auckland    \n",
       "11 13/03/2022 1359         Maraetai     Auckland    \n",
       "12 20/03/2022  792         Albany       Auckland    \n",
       "13 10/04/2022 2147         Auckland     Auckland    "
      ]
     },
     "metadata": {},
     "output_type": "display_data"
    }
   ],
   "source": [
    "# Read in events.csv\n",
    "events_df <- read_csv(file = \"events.csv\", show_col_types = FALSE) \n",
    "events_df"
   ]
  },
  {
   "cell_type": "code",
   "execution_count": 14,
   "metadata": {},
   "outputs": [
    {
     "name": "stdout",
     "output_type": "stream",
     "text": [
      "Rows: 13\n",
      "Columns: 7\n",
      "$ ...1         \u001b[3m\u001b[90m<dbl>\u001b[39m\u001b[23m 1, 2, 3, 4, 5, 6, 7, 8, 9, 10, 11, 12, 13\n",
      "$ Event        \u001b[3m\u001b[90m<chr>\u001b[39m\u001b[23m \"Tauranga Marathon\", \"Devonport Half Marathon\", \"Run Orew…\n",
      "$ Link         \u001b[3m\u001b[90m<chr>\u001b[39m\u001b[23m \"https://taurangamarathon.nz\", \"https://devonporthalfmara…\n",
      "$ Date         \u001b[3m\u001b[90m<chr>\u001b[39m\u001b[23m \"18/09/2022\", \"2/10/2022\", \"16/10/2022\", \"11/11/2020\", \"1…\n",
      "$ Participants \u001b[3m\u001b[90m<dbl>\u001b[39m\u001b[23m 1570, 1268, 834, 393, 767, 938, 771, 1689, 768, 1270, 135…\n",
      "$ Location     \u001b[3m\u001b[90m<chr>\u001b[39m\u001b[23m \"Tauranga\", \"Devonport\", \"Orewa\", \"Wellington\", \"Christch…\n",
      "$ City         \u001b[3m\u001b[90m<chr>\u001b[39m\u001b[23m \"Tauranga\", \"Auckland\", \"Auckland\", \"Wellington\", \"Christ…\n"
     ]
    }
   ],
   "source": [
    "# Inspect the columns\n",
    "events_df %>% glimpse()"
   ]
  },
  {
   "cell_type": "code",
   "execution_count": 15,
   "metadata": {},
   "outputs": [],
   "source": [
    "# Rename first column\n",
    "events_df <- events_df %>% rename(\"Event_Id\" = ...1)"
   ]
  },
  {
   "cell_type": "code",
   "execution_count": 16,
   "metadata": {},
   "outputs": [],
   "source": [
    " # List for holding links - no event will have more than 2\n",
    "links_list <- vector(\"list\", length = length(2*nrow(events_df)))\n",
    "\n",
    "# List for holding corresponding event id\n",
    "event_id_list <- vector(\"list\", length = length(2*nrow(events_df)))\n",
    "\n",
    "# Iterate over each event and generate the link(s) for the races (append the links to the list)\n",
    "for (i in 1:nrow(events_df)) {\n",
    "    \n",
    "    base_url <- \"https://results.runningevents.co.nz/list\"\n",
    "    \n",
    "    # Extract row values in to separate variables to make the code tidier\n",
    "    event_id <- events_df[i, \"Event_Id\"]\n",
    "    event <- events_df[i, \"Event\"]\n",
    "    date <- events_df[i, \"Date\"]\n",
    "    location <- events_df[i, \"Location\"]\n",
    "    \n",
    "    # Events with \"Run\" in their name have 15km and 10km races\n",
    "    if (str_contains(event, \"Run\")) {\n",
    "        event_name <- tolower(str_replace_all(event, pattern=\" \", repl=\"\")) # Lowercase and remove whitespace from name\n",
    "        year <- str_sub(date, start= -4) # Year portion of date\n",
    "        links_list <- append(links_list, glue(\"{base_url}/{event_name}/{year}/15km\"))\n",
    "        event_id_list <- append(event_id_list, event_id)\n",
    "        links_list <- append(links_list, glue(\"{base_url}/{event_name}/{year}/10km\"))  \n",
    "        event_id_list <- append(event_id_list, event_id)\n",
    "    }\n",
    "    \n",
    "    # Events with \"Marathon\" in their name have 21km and 10km races\n",
    "    else if (str_contains(event, \"Marathon\")) {\n",
    "        event_name <- tolower(location) # Lowercase location\n",
    "        year <- str_sub(date, start= -4) # Year portion of date\n",
    "        links_list <- append(links_list, glue(\"{base_url}/{event_name}/{year}/21km\")) \n",
    "        event_id_list <- append(event_id_list, event_id)\n",
    "        links_list <- append(links_list, glue(\"{base_url}/{event_name}/{year}/10km\")) \n",
    "        event_id_list <- append(event_id_list, event_id)\n",
    "    }\n",
    "    \n",
    "    # Events with \"Corporate Challenge\" in their name only have 5km races\n",
    "    else if (str_contains(event, \"Corporate Challenge\")) {\n",
    "        event_name <- tolower(location) # Lowercase location\n",
    "        year <- str_sub(date, start= -4) # Year portion of date\n",
    "        links_list <- append(links_list, glue(\"{base_url}/cc{event_name}/{year}/5km\")) \n",
    "        event_id_list <- append(event_id_list, event_id)\n",
    "    }\n",
    "    \n",
    "}"
   ]
  },
  {
   "cell_type": "code",
   "execution_count": 18,
   "metadata": {},
   "outputs": [
    {
     "data": {
      "text/html": [
       "<table class=\"dataframe\">\n",
       "<caption>A tibble: 23 × 2</caption>\n",
       "<thead>\n",
       "\t<tr><th scope=col>Event_Id</th><th scope=col>Link</th></tr>\n",
       "\t<tr><th scope=col>&lt;dbl&gt;</th><th scope=col>&lt;chr&gt;</th></tr>\n",
       "</thead>\n",
       "<tbody>\n",
       "\t<tr><td> 1</td><td>https://results.runningevents.co.nz/list/tauranga/2022/21km     </td></tr>\n",
       "\t<tr><td> 1</td><td>https://results.runningevents.co.nz/list/tauranga/2022/10km     </td></tr>\n",
       "\t<tr><td> 2</td><td>https://results.runningevents.co.nz/list/devonport/2022/21km    </td></tr>\n",
       "\t<tr><td> 2</td><td>https://results.runningevents.co.nz/list/devonport/2022/10km    </td></tr>\n",
       "\t<tr><td> 3</td><td>https://results.runningevents.co.nz/list/runorewa/2022/15km     </td></tr>\n",
       "\t<tr><td> 3</td><td>https://results.runningevents.co.nz/list/runorewa/2022/10km     </td></tr>\n",
       "\t<tr><td> 4</td><td>https://results.runningevents.co.nz/list/ccwellington/2020/5km  </td></tr>\n",
       "\t<tr><td> 5</td><td>https://results.runningevents.co.nz/list/ccchristchurch/2022/5km</td></tr>\n",
       "\t<tr><td> 6</td><td>https://results.runningevents.co.nz/list/ccauckland/2020/5km    </td></tr>\n",
       "\t<tr><td> 7</td><td>https://results.runningevents.co.nz/list/runthepoint/2022/15km  </td></tr>\n",
       "\t<tr><td> 7</td><td>https://results.runningevents.co.nz/list/runthepoint/2022/10km  </td></tr>\n",
       "\t<tr><td> 8</td><td>https://results.runningevents.co.nz/list/omaha/2022/21km        </td></tr>\n",
       "\t<tr><td> 8</td><td>https://results.runningevents.co.nz/list/omaha/2022/10km        </td></tr>\n",
       "\t<tr><td> 9</td><td>https://results.runningevents.co.nz/list/rundevonport/2022/15km </td></tr>\n",
       "\t<tr><td> 9</td><td>https://results.runningevents.co.nz/list/rundevonport/2022/10km </td></tr>\n",
       "\t<tr><td>10</td><td>https://results.runningevents.co.nz/list/coatesville/2022/21km  </td></tr>\n",
       "\t<tr><td>10</td><td>https://results.runningevents.co.nz/list/coatesville/2022/10km  </td></tr>\n",
       "\t<tr><td>11</td><td>https://results.runningevents.co.nz/list/maraetai/2022/21km     </td></tr>\n",
       "\t<tr><td>11</td><td>https://results.runningevents.co.nz/list/maraetai/2022/10km     </td></tr>\n",
       "\t<tr><td>12</td><td>https://results.runningevents.co.nz/list/runalbany/2022/15km    </td></tr>\n",
       "\t<tr><td>12</td><td>https://results.runningevents.co.nz/list/runalbany/2022/10km    </td></tr>\n",
       "\t<tr><td>13</td><td>https://results.runningevents.co.nz/list/auckland/2022/21km     </td></tr>\n",
       "\t<tr><td>13</td><td>https://results.runningevents.co.nz/list/auckland/2022/10km     </td></tr>\n",
       "</tbody>\n",
       "</table>\n"
      ],
      "text/latex": [
       "A tibble: 23 × 2\n",
       "\\begin{tabular}{ll}\n",
       " Event\\_Id & Link\\\\\n",
       " <dbl> & <chr>\\\\\n",
       "\\hline\n",
       "\t  1 & https://results.runningevents.co.nz/list/tauranga/2022/21km     \\\\\n",
       "\t  1 & https://results.runningevents.co.nz/list/tauranga/2022/10km     \\\\\n",
       "\t  2 & https://results.runningevents.co.nz/list/devonport/2022/21km    \\\\\n",
       "\t  2 & https://results.runningevents.co.nz/list/devonport/2022/10km    \\\\\n",
       "\t  3 & https://results.runningevents.co.nz/list/runorewa/2022/15km     \\\\\n",
       "\t  3 & https://results.runningevents.co.nz/list/runorewa/2022/10km     \\\\\n",
       "\t  4 & https://results.runningevents.co.nz/list/ccwellington/2020/5km  \\\\\n",
       "\t  5 & https://results.runningevents.co.nz/list/ccchristchurch/2022/5km\\\\\n",
       "\t  6 & https://results.runningevents.co.nz/list/ccauckland/2020/5km    \\\\\n",
       "\t  7 & https://results.runningevents.co.nz/list/runthepoint/2022/15km  \\\\\n",
       "\t  7 & https://results.runningevents.co.nz/list/runthepoint/2022/10km  \\\\\n",
       "\t  8 & https://results.runningevents.co.nz/list/omaha/2022/21km        \\\\\n",
       "\t  8 & https://results.runningevents.co.nz/list/omaha/2022/10km        \\\\\n",
       "\t  9 & https://results.runningevents.co.nz/list/rundevonport/2022/15km \\\\\n",
       "\t  9 & https://results.runningevents.co.nz/list/rundevonport/2022/10km \\\\\n",
       "\t 10 & https://results.runningevents.co.nz/list/coatesville/2022/21km  \\\\\n",
       "\t 10 & https://results.runningevents.co.nz/list/coatesville/2022/10km  \\\\\n",
       "\t 11 & https://results.runningevents.co.nz/list/maraetai/2022/21km     \\\\\n",
       "\t 11 & https://results.runningevents.co.nz/list/maraetai/2022/10km     \\\\\n",
       "\t 12 & https://results.runningevents.co.nz/list/runalbany/2022/15km    \\\\\n",
       "\t 12 & https://results.runningevents.co.nz/list/runalbany/2022/10km    \\\\\n",
       "\t 13 & https://results.runningevents.co.nz/list/auckland/2022/21km     \\\\\n",
       "\t 13 & https://results.runningevents.co.nz/list/auckland/2022/10km     \\\\\n",
       "\\end{tabular}\n"
      ],
      "text/markdown": [
       "\n",
       "A tibble: 23 × 2\n",
       "\n",
       "| Event_Id &lt;dbl&gt; | Link &lt;chr&gt; |\n",
       "|---|---|\n",
       "|  1 | https://results.runningevents.co.nz/list/tauranga/2022/21km      |\n",
       "|  1 | https://results.runningevents.co.nz/list/tauranga/2022/10km      |\n",
       "|  2 | https://results.runningevents.co.nz/list/devonport/2022/21km     |\n",
       "|  2 | https://results.runningevents.co.nz/list/devonport/2022/10km     |\n",
       "|  3 | https://results.runningevents.co.nz/list/runorewa/2022/15km      |\n",
       "|  3 | https://results.runningevents.co.nz/list/runorewa/2022/10km      |\n",
       "|  4 | https://results.runningevents.co.nz/list/ccwellington/2020/5km   |\n",
       "|  5 | https://results.runningevents.co.nz/list/ccchristchurch/2022/5km |\n",
       "|  6 | https://results.runningevents.co.nz/list/ccauckland/2020/5km     |\n",
       "|  7 | https://results.runningevents.co.nz/list/runthepoint/2022/15km   |\n",
       "|  7 | https://results.runningevents.co.nz/list/runthepoint/2022/10km   |\n",
       "|  8 | https://results.runningevents.co.nz/list/omaha/2022/21km         |\n",
       "|  8 | https://results.runningevents.co.nz/list/omaha/2022/10km         |\n",
       "|  9 | https://results.runningevents.co.nz/list/rundevonport/2022/15km  |\n",
       "|  9 | https://results.runningevents.co.nz/list/rundevonport/2022/10km  |\n",
       "| 10 | https://results.runningevents.co.nz/list/coatesville/2022/21km   |\n",
       "| 10 | https://results.runningevents.co.nz/list/coatesville/2022/10km   |\n",
       "| 11 | https://results.runningevents.co.nz/list/maraetai/2022/21km      |\n",
       "| 11 | https://results.runningevents.co.nz/list/maraetai/2022/10km      |\n",
       "| 12 | https://results.runningevents.co.nz/list/runalbany/2022/15km     |\n",
       "| 12 | https://results.runningevents.co.nz/list/runalbany/2022/10km     |\n",
       "| 13 | https://results.runningevents.co.nz/list/auckland/2022/21km      |\n",
       "| 13 | https://results.runningevents.co.nz/list/auckland/2022/10km      |\n",
       "\n"
      ],
      "text/plain": [
       "   Event_Id Link                                                            \n",
       "1   1       https://results.runningevents.co.nz/list/tauranga/2022/21km     \n",
       "2   1       https://results.runningevents.co.nz/list/tauranga/2022/10km     \n",
       "3   2       https://results.runningevents.co.nz/list/devonport/2022/21km    \n",
       "4   2       https://results.runningevents.co.nz/list/devonport/2022/10km    \n",
       "5   3       https://results.runningevents.co.nz/list/runorewa/2022/15km     \n",
       "6   3       https://results.runningevents.co.nz/list/runorewa/2022/10km     \n",
       "7   4       https://results.runningevents.co.nz/list/ccwellington/2020/5km  \n",
       "8   5       https://results.runningevents.co.nz/list/ccchristchurch/2022/5km\n",
       "9   6       https://results.runningevents.co.nz/list/ccauckland/2020/5km    \n",
       "10  7       https://results.runningevents.co.nz/list/runthepoint/2022/15km  \n",
       "11  7       https://results.runningevents.co.nz/list/runthepoint/2022/10km  \n",
       "12  8       https://results.runningevents.co.nz/list/omaha/2022/21km        \n",
       "13  8       https://results.runningevents.co.nz/list/omaha/2022/10km        \n",
       "14  9       https://results.runningevents.co.nz/list/rundevonport/2022/15km \n",
       "15  9       https://results.runningevents.co.nz/list/rundevonport/2022/10km \n",
       "16 10       https://results.runningevents.co.nz/list/coatesville/2022/21km  \n",
       "17 10       https://results.runningevents.co.nz/list/coatesville/2022/10km  \n",
       "18 11       https://results.runningevents.co.nz/list/maraetai/2022/21km     \n",
       "19 11       https://results.runningevents.co.nz/list/maraetai/2022/10km     \n",
       "20 12       https://results.runningevents.co.nz/list/runalbany/2022/15km    \n",
       "21 12       https://results.runningevents.co.nz/list/runalbany/2022/10km    \n",
       "22 13       https://results.runningevents.co.nz/list/auckland/2022/21km     \n",
       "23 13       https://results.runningevents.co.nz/list/auckland/2022/10km     "
      ]
     },
     "metadata": {},
     "output_type": "display_data"
    }
   ],
   "source": [
    "# Create dataframe from the list\n",
    "event_links_df <- as.data.frame(do.call(rbind, links_list[-1])) # First element will be NULL as the list is only appended to\n",
    "\n",
    "# Rename the first column\n",
    "event_links_df  <- event_links_df  %>% rename(\"Link\" = 1)\n",
    "\n",
    "# Append the event id list\n",
    "event_links_df <- event_links_df %>%\n",
    "  add_column(Event_Id = event_id_list[-1], .before = 1)\n",
    "\n",
    "# Unnest the Event_Id column\n",
    "event_links_df <- event_links_df %>% \n",
    "  unnest(Event_Id) \n",
    "\n",
    "event_links_df"
   ]
  },
  {
   "cell_type": "code",
   "execution_count": 19,
   "metadata": {},
   "outputs": [],
   "source": [
    "# Save as CSV file \n",
    "#write.csv(event_links_df, \"event_links.csv\")"
   ]
  }
 ],
 "metadata": {
  "kernelspec": {
   "display_name": "R",
   "language": "R",
   "name": "ir"
  },
  "language_info": {
   "codemirror_mode": "r",
   "file_extension": ".r",
   "mimetype": "text/x-r-source",
   "name": "R",
   "pygments_lexer": "r",
   "version": "4.2.1"
  }
 },
 "nbformat": 4,
 "nbformat_minor": 4
}
