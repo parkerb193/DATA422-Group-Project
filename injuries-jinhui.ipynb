{
 "cells": [
  {
   "cell_type": "code",
   "execution_count": 1,
   "id": "6f8b06e2-c6fa-48e8-93c6-cc0c2ef1387a",
   "metadata": {},
   "outputs": [],
   "source": [
    "using Pkg\n",
    "#Pkg.add(\"Queryverse\")\n",
    "using Queryverse"
   ]
  },
  {
   "cell_type": "code",
   "execution_count": 2,
   "id": "b0f0afad-8f74-49b0-9888-c3e1c90217d8",
   "metadata": {},
   "outputs": [],
   "source": [
    "using DataFrames"
   ]
  },
  {
   "cell_type": "code",
   "execution_count": 3,
   "id": "af39ad8e-1fbe-4024-a823-1ced6d1b7fb8",
   "metadata": {},
   "outputs": [],
   "source": [
    "#Pkg.add(\"XLSX\")\n",
    "import XLSX"
   ]
  },
  {
   "cell_type": "code",
   "execution_count": 4,
   "id": "51adb27e-abd4-458f-b6f7-2d053e5b7ac3",
   "metadata": {},
   "outputs": [],
   "source": [
    "using HTTP\n",
    "using CSV"
   ]
  },
  {
   "cell_type": "code",
   "execution_count": 5,
   "id": "efea4e41-2558-479f-8178-d8400bcacf9f",
   "metadata": {},
   "outputs": [
    {
     "data": {
      "text/plain": [
       "\"https://catalogue.data.govt.nz/dataset/916651bf-4753-472d-8c9c-1645e6fcee9e/resource/fe9f507d-5aa6-4880-962b-18f379d067c4/download/ar-285-running-injuries-response.xlsx\""
      ]
     },
     "execution_count": 5,
     "metadata": {},
     "output_type": "execute_result"
    }
   ],
   "source": [
    "link = \"https://catalogue.data.govt.nz/dataset/916651bf-4753-472d-8c9c-1645e6fcee9e/resource/fe9f507d-5aa6-4880-962b-18f379d067c4/download/ar-285-running-injuries-response.xlsx\""
   ]
  },
  {
   "cell_type": "code",
   "execution_count": 6,
   "id": "d20edcb2-e133-462c-842a-9a3200ee671a",
   "metadata": {},
   "outputs": [
    {
     "name": "stderr",
     "output_type": "stream",
     "text": [
      "┌ Info: Downloading\n",
      "│   source = https://catalogue.data.govt.nz/dataset/916651bf-4753-472d-8c9c-1645e6fcee9e/resource/fe9f507d-5aa6-4880-962b-18f379d067c4/download/ar-285-running-injuries-response.xlsx\n",
      "│   dest = C:\\Users\\Ben\\OneDrive - University of Canterbury\\DATA422 - Data Wrangling\\DATA422-Group-Project\\ar-285-running-injuries-response.xlsx\n",
      "│   progress = 1.0\n",
      "│   time_taken = 0.11 s\n",
      "│   time_remaining = 0.0 s\n",
      "│   average_speed = 439.737 KiB/s\n",
      "│   downloaded = 48.371 KiB\n",
      "│   remaining = 0 bytes\n",
      "│   total = 48.371 KiB\n",
      "└ @ HTTP C:\\Users\\Ben\\.julia\\packages\\HTTP\\PesRN\\src\\download.jl:132\n"
     ]
    },
    {
     "data": {
      "text/plain": [
       "\"C:\\\\Users\\\\Ben\\\\OneDrive - University of Canterbury\\\\DATA422 - Data Wrangling\\\\DATA422-Group-Project\\\\ar-285-running-injuries-response.xlsx\""
      ]
     },
     "execution_count": 6,
     "metadata": {},
     "output_type": "execute_result"
    }
   ],
   "source": [
    "file = HTTP.download(link,pwd())"
   ]
  },
  {
   "cell_type": "code",
   "execution_count": 7,
   "id": "7452267c-252b-4049-ab48-9ed179b032e1",
   "metadata": {},
   "outputs": [
    {
     "data": {
      "text/plain": [
       "XLSXFile(\"ar-285-running-injuries-response.xlsx\") containing 2 Worksheets\n",
       "            sheetname size          range        \n",
       "-------------------------------------------------\n",
       "                Notes 269x24        A1:X269      \n",
       "                 Data 77x26         B2:AA78      \n"
      ]
     },
     "execution_count": 7,
     "metadata": {},
     "output_type": "execute_result"
    }
   ],
   "source": [
    "el = XLSX.readxlsx(file)"
   ]
  },
  {
   "cell_type": "code",
   "execution_count": 8,
   "id": "c9d0ed40-29eb-46e4-a592-74c4fe41de16",
   "metadata": {},
   "outputs": [
    {
     "data": {
      "text/html": [
       "<div class=\"data-frame\"><p>19 rows × 11 columns</p><table class=\"data-frame\"><thead><tr><th></th><th>x1</th><th>x2</th><th>x3</th><th>x4</th><th>x5</th><th>x6</th><th>x7</th><th>x8</th><th>x9</th><th>x10</th><th>x11</th></tr><tr><th></th><th title=\"Any\">Any</th><th title=\"Any\">Any</th><th title=\"Any\">Any</th><th title=\"Any\">Any</th><th title=\"Any\">Any</th><th title=\"Any\">Any</th><th title=\"Any\">Any</th><th title=\"Any\">Any</th><th title=\"Any\">Any</th><th title=\"Any\">Any</th><th title=\"Any\">Any</th></tr></thead><tbody><tr><th>1</th><td>2010</td><td>2011</td><td>2012</td><td>2013</td><td>2014</td><td>2015</td><td>2016</td><td>2017</td><td>2018</td><td>2019</td><td>2020 (YTD)</td></tr><tr><th>2</th><td>36</td><td>30</td><td>53</td><td>26</td><td>18</td><td>20</td><td>30</td><td>38</td><td>95</td><td>142</td><td>172</td></tr><tr><th>3</th><td>172</td><td>160</td><td>203</td><td>181</td><td>171</td><td>229</td><td>301</td><td>288</td><td>433</td><td>490</td><td>392</td></tr><tr><th>4</th><td>693</td><td>646</td><td>858</td><td>812</td><td>809</td><td>937</td><td>1030</td><td>1006</td><td>1246</td><td>1318</td><td>1032</td></tr><tr><th>5</th><td>1052</td><td>909</td><td>1116</td><td>1161</td><td>1172</td><td>1217</td><td>1213</td><td>1158</td><td>1132</td><td>998</td><td>1002</td></tr><tr><th>6</th><td>1109</td><td>1074</td><td>1336</td><td>1413</td><td>1476</td><td>1580</td><td>1397</td><td>1425</td><td>1267</td><td>1152</td><td>1127</td></tr><tr><th>7</th><td>1179</td><td>1125</td><td>1227</td><td>1388</td><td>1493</td><td>1650</td><td>1599</td><td>1721</td><td>1507</td><td>1362</td><td>1465</td></tr><tr><th>8</th><td>1248</td><td>1111</td><td>1248</td><td>1414</td><td>1537</td><td>1525</td><td>1578</td><td>1584</td><td>1275</td><td>1227</td><td>1401</td></tr><tr><th>9</th><td>1628</td><td>1384</td><td>1606</td><td>1701</td><td>1697</td><td>1829</td><td>1812</td><td>1678</td><td>1430</td><td>1399</td><td>1314</td></tr><tr><th>10</th><td>1607</td><td>1462</td><td>1813</td><td>1974</td><td>1955</td><td>2184</td><td>2189</td><td>2024</td><td>1651</td><td>1391</td><td>1453</td></tr><tr><th>11</th><td>1359</td><td>1289</td><td>1478</td><td>1654</td><td>1712</td><td>1925</td><td>1820</td><td>1859</td><td>1633</td><td>1409</td><td>1455</td></tr><tr><th>12</th><td>880</td><td>855</td><td>1037</td><td>1143</td><td>1210</td><td>1477</td><td>1414</td><td>1344</td><td>1092</td><td>1007</td><td>1056</td></tr><tr><th>13</th><td>441</td><td>486</td><td>557</td><td>543</td><td>663</td><td>759</td><td>817</td><td>798</td><td>724</td><td>719</td><td>692</td></tr><tr><th>14</th><td>257</td><td>248</td><td>314</td><td>317</td><td>321</td><td>393</td><td>432</td><td>386</td><td>364</td><td>388</td><td>411</td></tr><tr><th>15</th><td>101</td><td>104</td><td>144</td><td>156</td><td>187</td><td>214</td><td>230</td><td>227</td><td>180</td><td>212</td><td>200</td></tr><tr><th>16</th><td>64</td><td>46</td><td>49</td><td>59</td><td>59</td><td>83</td><td>94</td><td>120</td><td>102</td><td>115</td><td>104</td></tr><tr><th>17</th><td>10</td><td>8</td><td>13</td><td>14</td><td>21</td><td>32</td><td>26</td><td>41</td><td>28</td><td>41</td><td>41</td></tr><tr><th>18</th><td>13</td><td>5</td><td>7</td><td>8</td><td>15</td><td>10</td><td>18</td><td>10</td><td>19</td><td>27</td><td>21</td></tr><tr><th>19</th><td>11849</td><td>10942</td><td>13059</td><td>13964</td><td>14516</td><td>16064</td><td>16000</td><td>15707</td><td>14178</td><td>13397</td><td>13338</td></tr></tbody></table></div>"
      ],
      "text/latex": [
       "\\begin{tabular}{r|ccccccccccc}\n",
       "\t& x1 & x2 & x3 & x4 & x5 & x6 & x7 & x8 & x9 & x10 & x11\\\\\n",
       "\t\\hline\n",
       "\t& Any & Any & Any & Any & Any & Any & Any & Any & Any & Any & Any\\\\\n",
       "\t\\hline\n",
       "\t1 & 2010 & 2011 & 2012 & 2013 & 2014 & 2015 & 2016 & 2017 & 2018 & 2019 & 2020 (YTD) \\\\\n",
       "\t2 & 36 & 30 & 53 & 26 & 18 & 20 & 30 & 38 & 95 & 142 & 172 \\\\\n",
       "\t3 & 172 & 160 & 203 & 181 & 171 & 229 & 301 & 288 & 433 & 490 & 392 \\\\\n",
       "\t4 & 693 & 646 & 858 & 812 & 809 & 937 & 1030 & 1006 & 1246 & 1318 & 1032 \\\\\n",
       "\t5 & 1052 & 909 & 1116 & 1161 & 1172 & 1217 & 1213 & 1158 & 1132 & 998 & 1002 \\\\\n",
       "\t6 & 1109 & 1074 & 1336 & 1413 & 1476 & 1580 & 1397 & 1425 & 1267 & 1152 & 1127 \\\\\n",
       "\t7 & 1179 & 1125 & 1227 & 1388 & 1493 & 1650 & 1599 & 1721 & 1507 & 1362 & 1465 \\\\\n",
       "\t8 & 1248 & 1111 & 1248 & 1414 & 1537 & 1525 & 1578 & 1584 & 1275 & 1227 & 1401 \\\\\n",
       "\t9 & 1628 & 1384 & 1606 & 1701 & 1697 & 1829 & 1812 & 1678 & 1430 & 1399 & 1314 \\\\\n",
       "\t10 & 1607 & 1462 & 1813 & 1974 & 1955 & 2184 & 2189 & 2024 & 1651 & 1391 & 1453 \\\\\n",
       "\t11 & 1359 & 1289 & 1478 & 1654 & 1712 & 1925 & 1820 & 1859 & 1633 & 1409 & 1455 \\\\\n",
       "\t12 & 880 & 855 & 1037 & 1143 & 1210 & 1477 & 1414 & 1344 & 1092 & 1007 & 1056 \\\\\n",
       "\t13 & 441 & 486 & 557 & 543 & 663 & 759 & 817 & 798 & 724 & 719 & 692 \\\\\n",
       "\t14 & 257 & 248 & 314 & 317 & 321 & 393 & 432 & 386 & 364 & 388 & 411 \\\\\n",
       "\t15 & 101 & 104 & 144 & 156 & 187 & 214 & 230 & 227 & 180 & 212 & 200 \\\\\n",
       "\t16 & 64 & 46 & 49 & 59 & 59 & 83 & 94 & 120 & 102 & 115 & 104 \\\\\n",
       "\t17 & 10 & 8 & 13 & 14 & 21 & 32 & 26 & 41 & 28 & 41 & 41 \\\\\n",
       "\t18 & 13 & 5 & 7 & 8 & 15 & 10 & 18 & 10 & 19 & 27 & 21 \\\\\n",
       "\t19 & 11849 & 10942 & 13059 & 13964 & 14516 & 16064 & 16000 & 15707 & 14178 & 13397 & 13338 \\\\\n",
       "\\end{tabular}\n"
      ],
      "text/plain": [
       "\u001b[1m19×11 DataFrame\u001b[0m\n",
       "\u001b[1m Row \u001b[0m│\u001b[1m x1    \u001b[0m\u001b[1m x2    \u001b[0m\u001b[1m x3    \u001b[0m\u001b[1m x4    \u001b[0m\u001b[1m x5    \u001b[0m\u001b[1m x6    \u001b[0m\u001b[1m x7    \u001b[0m\u001b[1m x8    \u001b[0m\u001b[1m x9    \u001b[0m\u001b[1m x10   \u001b[0m\u001b[1m x\u001b[0m ⋯\n",
       "\u001b[1m     \u001b[0m│\u001b[90m Any   \u001b[0m\u001b[90m Any   \u001b[0m\u001b[90m Any   \u001b[0m\u001b[90m Any   \u001b[0m\u001b[90m Any   \u001b[0m\u001b[90m Any   \u001b[0m\u001b[90m Any   \u001b[0m\u001b[90m Any   \u001b[0m\u001b[90m Any   \u001b[0m\u001b[90m Any   \u001b[0m\u001b[90m A\u001b[0m ⋯\n",
       "─────┼──────────────────────────────────────────────────────────────────────────\n",
       "   1 │ 2010   2011   2012   2013   2014   2015   2016   2017   2018   2019   2 ⋯\n",
       "   2 │ 36     30     53     26     18     20     30     38     95     142    1\n",
       "   3 │ 172    160    203    181    171    229    301    288    433    490    3\n",
       "   4 │ 693    646    858    812    809    937    1030   1006   1246   1318   1\n",
       "   5 │ 1052   909    1116   1161   1172   1217   1213   1158   1132   998    1 ⋯\n",
       "   6 │ 1109   1074   1336   1413   1476   1580   1397   1425   1267   1152   1\n",
       "   7 │ 1179   1125   1227   1388   1493   1650   1599   1721   1507   1362   1\n",
       "   8 │ 1248   1111   1248   1414   1537   1525   1578   1584   1275   1227   1\n",
       "   9 │ 1628   1384   1606   1701   1697   1829   1812   1678   1430   1399   1 ⋯\n",
       "  10 │ 1607   1462   1813   1974   1955   2184   2189   2024   1651   1391   1\n",
       "  11 │ 1359   1289   1478   1654   1712   1925   1820   1859   1633   1409   1\n",
       "  12 │ 880    855    1037   1143   1210   1477   1414   1344   1092   1007   1\n",
       "  13 │ 441    486    557    543    663    759    817    798    724    719    6 ⋯\n",
       "  14 │ 257    248    314    317    321    393    432    386    364    388    4\n",
       "  15 │ 101    104    144    156    187    214    230    227    180    212    2\n",
       "  16 │ 64     46     49     59     59     83     94     120    102    115    1\n",
       "  17 │ 10     8      13     14     21     32     26     41     28     41     4 ⋯\n",
       "  18 │ 13     5      7      8      15     10     18     10     19     27     2\n",
       "  19 │ 11849  10942  13059  13964  14516  16064  16000  15707  14178  13397  1\n",
       "\u001b[36m                                                                1 column omitted\u001b[0m"
      ]
     },
     "execution_count": 8,
     "metadata": {},
     "output_type": "execute_result"
    }
   ],
   "source": [
    "data = el[\"Data\"] \n",
    "target_table = DataFrame(data[\"C50:M68\"], :auto)"
   ]
  },
  {
   "cell_type": "code",
   "execution_count": 9,
   "id": "a8e1ee62-b39d-483c-a6e0-ac9cfa39d0af",
   "metadata": {},
   "outputs": [
    {
     "data": {
      "text/html": [
       "<div class=\"data-frame\"><p>8 rows × 1 columns</p><table class=\"data-frame\"><thead><tr><th></th><th>AgeGroup</th></tr><tr><th></th><th title=\"String\">String</th></tr></thead><tbody><tr><th>1</th><td>0-19</td></tr><tr><th>2</th><td>20-29</td></tr><tr><th>3</th><td>30-39</td></tr><tr><th>4</th><td>40-49</td></tr><tr><th>5</th><td>50-59</td></tr><tr><th>6</th><td>60-69</td></tr><tr><th>7</th><td>70+</td></tr><tr><th>8</th><td>Total</td></tr></tbody></table></div>"
      ],
      "text/latex": [
       "\\begin{tabular}{r|c}\n",
       "\t& AgeGroup\\\\\n",
       "\t\\hline\n",
       "\t& String\\\\\n",
       "\t\\hline\n",
       "\t1 & 0-19 \\\\\n",
       "\t2 & 20-29 \\\\\n",
       "\t3 & 30-39 \\\\\n",
       "\t4 & 40-49 \\\\\n",
       "\t5 & 50-59 \\\\\n",
       "\t6 & 60-69 \\\\\n",
       "\t7 & 70+ \\\\\n",
       "\t8 & Total \\\\\n",
       "\\end{tabular}\n"
      ],
      "text/plain": [
       "\u001b[1m8×1 DataFrame\u001b[0m\n",
       "\u001b[1m Row \u001b[0m│\u001b[1m AgeGroup \u001b[0m\n",
       "\u001b[1m     \u001b[0m│\u001b[90m String   \u001b[0m\n",
       "─────┼──────────\n",
       "   1 │ 0-19\n",
       "   2 │ 20-29\n",
       "   3 │ 30-39\n",
       "   4 │ 40-49\n",
       "   5 │ 50-59\n",
       "   6 │ 60-69\n",
       "   7 │ 70+\n",
       "   8 │ Total"
      ]
     },
     "execution_count": 9,
     "metadata": {},
     "output_type": "execute_result"
    }
   ],
   "source": [
    "table_data = DataFrame(AgeGroup=[\"0-19\",\"20-29\",\"30-39\",\"40-49\",\"50-59\",\"60-69\",\"70+\",\"Total\"])"
   ]
  },
  {
   "cell_type": "code",
   "execution_count": 10,
   "id": "902dfe68-2146-420a-8eed-24f5b1fa1679",
   "metadata": {},
   "outputs": [],
   "source": [
    "for num in 1:11\n",
    "    result1 = target_table[2,num] + target_table[3,num] + target_table[4,num] + target_table[5,num]\n",
    "    result2 = target_table[6,num] + target_table[7,num]\n",
    "    result3 = target_table[8,num] + target_table[9,num]\n",
    "    result4 = target_table[10,num] + target_table[11,num]\n",
    "    result5 = target_table[12,num] + target_table[13,num]\n",
    "    result6 = target_table[14,num] + target_table[15,num]\n",
    "    result7 = target_table[16,num] + target_table[17,num] + target_table[18,num]\n",
    "    result8 = target_table[19,num]     \n",
    "    col_name = string(target_table[1,num])\n",
    "    insertcols!(table_data,num+1,col_name => [result1,result2,result3,result4,result5,result6,result7,result8])\n",
    "end"
   ]
  },
  {
   "cell_type": "code",
   "execution_count": 11,
   "id": "124c4ee2-92ee-41f6-97a0-b4bf996f31b8",
   "metadata": {},
   "outputs": [
    {
     "data": {
      "text/html": [
       "<div class=\"data-frame\"><p>8 rows × 12 columns (omitted printing of 2 columns)</p><table class=\"data-frame\"><thead><tr><th></th><th>x1</th><th>x2</th><th>x3</th><th>x4</th><th>x5</th><th>x6</th><th>x7</th><th>x8</th><th>x9</th><th>x10</th></tr><tr><th></th><th title=\"Any\">Any</th><th title=\"Any\">Any</th><th title=\"Any\">Any</th><th title=\"Any\">Any</th><th title=\"Any\">Any</th><th title=\"Any\">Any</th><th title=\"Any\">Any</th><th title=\"Any\">Any</th><th title=\"Any\">Any</th><th title=\"Any\">Any</th></tr></thead><tbody><tr><th>1</th><td>Injury Site</td><td>2010</td><td>2011</td><td>2012</td><td>2013</td><td>2014</td><td>2015</td><td>2016</td><td>2017</td><td>2018</td></tr><tr><th>2</th><td>Ankle</td><td>2953</td><td>2695</td><td>3157</td><td>3404</td><td>3469</td><td>3777</td><td>3827</td><td>3697</td><td>3228</td></tr><tr><th>3</th><td>Knee</td><td>2471</td><td>2343</td><td>2820</td><td>3144</td><td>3317</td><td>3697</td><td>3681</td><td>3688</td><td>3345</td></tr><tr><th>4</th><td>Lower Leg</td><td>2147</td><td>1930</td><td>2288</td><td>2285</td><td>2344</td><td>2459</td><td>2373</td><td>2207</td><td>1745</td></tr><tr><th>5</th><td>Hip, Upper Leg, Thigh</td><td>1415</td><td>1319</td><td>1546</td><td>1695</td><td>1784</td><td>1961</td><td>1982</td><td>1993</td><td>1792</td></tr><tr><th>6</th><td>Foot</td><td>907</td><td>813</td><td>1080</td><td>1175</td><td>1149</td><td>1259</td><td>1313</td><td>1297</td><td>1186</td></tr><tr><th>7</th><td>Other</td><td>1956</td><td>1842</td><td>2168</td><td>2261</td><td>2453</td><td>2911</td><td>2824</td><td>2825</td><td>2882</td></tr><tr><th>8</th><td>Total</td><td>11849</td><td>10942</td><td>13059</td><td>13964</td><td>14516</td><td>16064</td><td>16000</td><td>15707</td><td>14178</td></tr></tbody></table></div>"
      ],
      "text/latex": [
       "\\begin{tabular}{r|ccccccccccc}\n",
       "\t& x1 & x2 & x3 & x4 & x5 & x6 & x7 & x8 & x9 & x10 & \\\\\n",
       "\t\\hline\n",
       "\t& Any & Any & Any & Any & Any & Any & Any & Any & Any & Any & \\\\\n",
       "\t\\hline\n",
       "\t1 & Injury Site & 2010 & 2011 & 2012 & 2013 & 2014 & 2015 & 2016 & 2017 & 2018 & $\\dots$ \\\\\n",
       "\t2 & Ankle & 2953 & 2695 & 3157 & 3404 & 3469 & 3777 & 3827 & 3697 & 3228 & $\\dots$ \\\\\n",
       "\t3 & Knee & 2471 & 2343 & 2820 & 3144 & 3317 & 3697 & 3681 & 3688 & 3345 & $\\dots$ \\\\\n",
       "\t4 & Lower Leg & 2147 & 1930 & 2288 & 2285 & 2344 & 2459 & 2373 & 2207 & 1745 & $\\dots$ \\\\\n",
       "\t5 & Hip, Upper Leg, Thigh & 1415 & 1319 & 1546 & 1695 & 1784 & 1961 & 1982 & 1993 & 1792 & $\\dots$ \\\\\n",
       "\t6 & Foot & 907 & 813 & 1080 & 1175 & 1149 & 1259 & 1313 & 1297 & 1186 & $\\dots$ \\\\\n",
       "\t7 & Other & 1956 & 1842 & 2168 & 2261 & 2453 & 2911 & 2824 & 2825 & 2882 & $\\dots$ \\\\\n",
       "\t8 & Total & 11849 & 10942 & 13059 & 13964 & 14516 & 16064 & 16000 & 15707 & 14178 & $\\dots$ \\\\\n",
       "\\end{tabular}\n"
      ],
      "text/plain": [
       "\u001b[1m8×12 DataFrame\u001b[0m\n",
       "\u001b[1m Row \u001b[0m│\u001b[1m x1                    \u001b[0m\u001b[1m x2    \u001b[0m\u001b[1m x3    \u001b[0m\u001b[1m x4    \u001b[0m\u001b[1m x5    \u001b[0m\u001b[1m x6    \u001b[0m\u001b[1m x7    \u001b[0m\u001b[1m x8    \u001b[0m\u001b[1m\u001b[0m ⋯\n",
       "\u001b[1m     \u001b[0m│\u001b[90m Any                   \u001b[0m\u001b[90m Any   \u001b[0m\u001b[90m Any   \u001b[0m\u001b[90m Any   \u001b[0m\u001b[90m Any   \u001b[0m\u001b[90m Any   \u001b[0m\u001b[90m Any   \u001b[0m\u001b[90m Any   \u001b[0m\u001b[90m\u001b[0m ⋯\n",
       "─────┼──────────────────────────────────────────────────────────────────────────\n",
       "   1 │ Injury Site            2010   2011   2012   2013   2014   2015   2016   ⋯\n",
       "   2 │ Ankle                  2953   2695   3157   3404   3469   3777   3827\n",
       "   3 │ Knee                   2471   2343   2820   3144   3317   3697   3681\n",
       "   4 │ Lower Leg              2147   1930   2288   2285   2344   2459   2373\n",
       "   5 │ Hip, Upper Leg, Thigh  1415   1319   1546   1695   1784   1961   1982   ⋯\n",
       "   6 │ Foot                   907    813    1080   1175   1149   1259   1313\n",
       "   7 │ Other                  1956   1842   2168   2261   2453   2911   2824\n",
       "   8 │ Total                  11849  10942  13059  13964  14516  16064  16000\n",
       "\u001b[36m                                                               4 columns omitted\u001b[0m"
      ]
     },
     "execution_count": 11,
     "metadata": {},
     "output_type": "execute_result"
    }
   ],
   "source": [
    "target_table2 = DataFrame(data[\"P29:AA36\"], :auto)"
   ]
  },
  {
   "cell_type": "code",
   "execution_count": 12,
   "id": "261dd5ea-c40f-4a57-b5a3-fad315df3c5b",
   "metadata": {},
   "outputs": [
    {
     "data": {
      "text/html": [
       "<div class=\"data-frame\"><p>7 rows × 1 columns</p><table class=\"data-frame\"><thead><tr><th></th><th>InjurySite</th></tr><tr><th></th><th title=\"String\">String</th></tr></thead><tbody><tr><th>1</th><td>Ankle</td></tr><tr><th>2</th><td>Knee</td></tr><tr><th>3</th><td>Lower Leg</td></tr><tr><th>4</th><td>Hip, Upper Leg, Thigh</td></tr><tr><th>5</th><td>Foot</td></tr><tr><th>6</th><td>Other</td></tr><tr><th>7</th><td>Total</td></tr></tbody></table></div>"
      ],
      "text/latex": [
       "\\begin{tabular}{r|c}\n",
       "\t& InjurySite\\\\\n",
       "\t\\hline\n",
       "\t& String\\\\\n",
       "\t\\hline\n",
       "\t1 & Ankle \\\\\n",
       "\t2 & Knee \\\\\n",
       "\t3 & Lower Leg \\\\\n",
       "\t4 & Hip, Upper Leg, Thigh \\\\\n",
       "\t5 & Foot \\\\\n",
       "\t6 & Other \\\\\n",
       "\t7 & Total \\\\\n",
       "\\end{tabular}\n"
      ],
      "text/plain": [
       "\u001b[1m7×1 DataFrame\u001b[0m\n",
       "\u001b[1m Row \u001b[0m│\u001b[1m InjurySite            \u001b[0m\n",
       "\u001b[1m     \u001b[0m│\u001b[90m String                \u001b[0m\n",
       "─────┼───────────────────────\n",
       "   1 │ Ankle\n",
       "   2 │ Knee\n",
       "   3 │ Lower Leg\n",
       "   4 │ Hip, Upper Leg, Thigh\n",
       "   5 │ Foot\n",
       "   6 │ Other\n",
       "   7 │ Total"
      ]
     },
     "execution_count": 12,
     "metadata": {},
     "output_type": "execute_result"
    }
   ],
   "source": [
    "table_data2 = DataFrame(InjurySite = [\"Ankle\",\"Knee\",\"Lower Leg\",\"Hip, Upper Leg, Thigh\",\"Foot\",\"Other\",\"Total\"])"
   ]
  },
  {
   "cell_type": "code",
   "execution_count": 13,
   "id": "1ba67602-7f1c-4c3f-9599-39576e22351e",
   "metadata": {},
   "outputs": [],
   "source": [
    "for num in 2:12\n",
    "    result1 = target_table2[2,num] \n",
    "    result2 = target_table2[3,num] \n",
    "    result3 = target_table2[4,num] \n",
    "    result4 = target_table2[5,num] \n",
    "    result5 = target_table2[6,num] \n",
    "    result6 = target_table2[7,num] \n",
    "    result7 = target_table2[8,num]  \n",
    "    col_name = string(target_table2[1,num])\n",
    "    insertcols!(table_data2,num,col_name => [result1,result2,result3,result4,result5,result6,result7])\n",
    "end"
   ]
  },
  {
   "cell_type": "code",
   "execution_count": 14,
   "id": "4e8e4647-2031-4873-a271-8dde43e9e553",
   "metadata": {},
   "outputs": [
    {
     "name": "stdout",
     "output_type": "stream",
     "text": [
      "\u001b[1m8×12 DataFrame\u001b[0m\n",
      "\u001b[1m Row \u001b[0m│\u001b[1m AgeGroup \u001b[0m\u001b[1m 2010  \u001b[0m\u001b[1m 2011  \u001b[0m\u001b[1m 2012  \u001b[0m\u001b[1m 2013  \u001b[0m\u001b[1m 2014  \u001b[0m\u001b[1m 2015  \u001b[0m\u001b[1m 2016  \u001b[0m\u001b[1m 2017  \u001b[0m\u001b[1m 2018  \u001b[0m\u001b[1m 2019  \u001b[0m\u001b[1m 2020 (YTD) \u001b[0m\n",
      "\u001b[1m     \u001b[0m│\u001b[90m String   \u001b[0m\u001b[90m Int64 \u001b[0m\u001b[90m Int64 \u001b[0m\u001b[90m Int64 \u001b[0m\u001b[90m Int64 \u001b[0m\u001b[90m Int64 \u001b[0m\u001b[90m Int64 \u001b[0m\u001b[90m Int64 \u001b[0m\u001b[90m Int64 \u001b[0m\u001b[90m Int64 \u001b[0m\u001b[90m Int64 \u001b[0m\u001b[90m Int64      \u001b[0m\n",
      "─────┼────────────────────────────────────────────────────────────────────────────────────────────\n",
      "   1 │ 0-19       1953   1745   2230   2180   2170   2403   2574   2490   2906   2948        2598\n",
      "   2 │ 20-29      2288   2199   2563   2801   2969   3230   2996   3146   2774   2514        2592\n",
      "   3 │ 30-39      2876   2495   2854   3115   3234   3354   3390   3262   2705   2626        2715\n",
      "   4 │ 40-49      2966   2751   3291   3628   3667   4109   4009   3883   3284   2800        2908\n",
      "   5 │ 50-59      1321   1341   1594   1686   1873   2236   2231   2142   1816   1726        1748\n",
      "   6 │ 60-69       358    352    458    473    508    607    662    613    544    600         611\n",
      "   7 │ 70+          87     59     69     81     95    125    138    171    149    183         166\n",
      "   8 │ Total     11849  10942  13059  13964  14516  16064  16000  15707  14178  13397       13338"
     ]
    }
   ],
   "source": [
    "print(table_data)"
   ]
  },
  {
   "cell_type": "code",
   "execution_count": 15,
   "id": "079de03d-9c08-4713-a5e7-e8cbf9aa330f",
   "metadata": {},
   "outputs": [
    {
     "name": "stdout",
     "output_type": "stream",
     "text": [
      "\u001b[1m7×12 DataFrame\u001b[0m\n",
      "\u001b[1m Row \u001b[0m│\u001b[1m InjurySite            \u001b[0m\u001b[1m 2010  \u001b[0m\u001b[1m 2011  \u001b[0m\u001b[1m 2012  \u001b[0m\u001b[1m 2013  \u001b[0m\u001b[1m 2014  \u001b[0m\u001b[1m 2015  \u001b[0m\u001b[1m 2016  \u001b[0m\u001b[1m 2017  \u001b[0m\u001b[1m 2018  \u001b[0m\u001b[1m 2019  \u001b[0m\u001b[1m 2020 (YTD) \u001b[0m\n",
      "\u001b[1m     \u001b[0m│\u001b[90m String                \u001b[0m\u001b[90m Int64 \u001b[0m\u001b[90m Int64 \u001b[0m\u001b[90m Int64 \u001b[0m\u001b[90m Int64 \u001b[0m\u001b[90m Int64 \u001b[0m\u001b[90m Int64 \u001b[0m\u001b[90m Int64 \u001b[0m\u001b[90m Int64 \u001b[0m\u001b[90m Int64 \u001b[0m\u001b[90m Int64 \u001b[0m\u001b[90m Int64      \u001b[0m\n",
      "─────┼─────────────────────────────────────────────────────────────────────────────────────────────────────────\n",
      "   1 │ Ankle                   2953   2695   3157   3404   3469   3777   3827   3697   3228   2808        2895\n",
      "   2 │ Knee                    2471   2343   2820   3144   3317   3697   3681   3688   3345   3073        3185\n",
      "   3 │ Lower Leg               2147   1930   2288   2285   2344   2459   2373   2207   1745   1538        1615\n",
      "   4 │ Hip, Upper Leg, Thigh   1415   1319   1546   1695   1784   1961   1982   1993   1792   1813        1828\n",
      "   5 │ Foot                     907    813   1080   1175   1149   1259   1313   1297   1186   1116        1101\n",
      "   6 │ Other                   1956   1842   2168   2261   2453   2911   2824   2825   2882   3049        2714\n",
      "   7 │ Total                  11849  10942  13059  13964  14516  16064  16000  15707  14178  13397       13338"
     ]
    }
   ],
   "source": [
    "print(table_data2)"
   ]
  },
  {
   "cell_type": "code",
   "execution_count": 16,
   "id": "db6f5529-ccc5-49ef-982d-9442cfff6a91",
   "metadata": {},
   "outputs": [
    {
     "data": {
      "text/plain": [
       "\"injuryAgeGroups.csv\""
      ]
     },
     "execution_count": 16,
     "metadata": {},
     "output_type": "execute_result"
    }
   ],
   "source": [
    "CSV.write(\"injuryAgeGroups.csv\",table_data)"
   ]
  },
  {
   "cell_type": "code",
   "execution_count": 17,
   "id": "31a6e4aa-ac49-439a-ac48-534bb73372b5",
   "metadata": {},
   "outputs": [
    {
     "data": {
      "text/plain": [
       "\"injuries.csv\""
      ]
     },
     "execution_count": 17,
     "metadata": {},
     "output_type": "execute_result"
    }
   ],
   "source": [
    "CSV.write(\"injuries.csv\",table_data2)"
   ]
  },
  {
   "cell_type": "code",
   "execution_count": null,
   "id": "23edca36-a5c4-4aac-8882-3329580fbcfb",
   "metadata": {},
   "outputs": [],
   "source": []
  }
 ],
 "metadata": {
  "kernelspec": {
   "display_name": "Julia 1.7.3",
   "language": "julia",
   "name": "julia-1.7"
  },
  "language_info": {
   "file_extension": ".jl",
   "mimetype": "application/julia",
   "name": "julia",
   "version": "1.7.3"
  }
 },
 "nbformat": 4,
 "nbformat_minor": 5
}
