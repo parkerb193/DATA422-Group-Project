{
 "cells": [
  {
   "cell_type": "code",
   "execution_count": 6,
   "metadata": {
    "tags": []
   },
   "outputs": [],
   "source": [
    "# Libraries\n",
    "library(xml2)\n",
    "library(rvest)\n",
    "library(tidyverse)\n",
    "library(magrittr)\n",
    "library(purrr)\n",
    "library(glue)\n",
    "library(stringr)\n",
    "library(tidytext)\n",
    "library(textdata)\n",
    "library(dplyr)\n",
    "library(httr)\n",
    "library(jsonlite)\n",
    "library(data.table)"
   ]
  },
  {
   "cell_type": "code",
   "execution_count": 59,
   "metadata": {},
   "outputs": [
    {
     "name": "stderr",
     "output_type": "stream",
     "text": [
      "Don't know how to automatically pick scale for object of type ITime. Defaulting to continuous.\n",
      "\n",
      "Warning message:\n",
      "“Removed 7 rows containing non-finite values (stat_boxplot).”\n"
     ]
    },
    {
     "data": {
      "text/html": [
       "<strong>pdf:</strong> 2"
      ],
      "text/latex": [
       "\\textbf{pdf:} 2"
      ],
      "text/markdown": [
       "**pdf:** 2"
      ],
      "text/plain": [
       "pdf \n",
       "  2 "
      ]
     },
     "metadata": {},
     "output_type": "display_data"
    },
    {
     "data": {
      "text/html": [
       "<strong>pdf:</strong> 2"
      ],
      "text/latex": [
       "\\textbf{pdf:} 2"
      ],
      "text/markdown": [
       "**pdf:** 2"
      ],
      "text/plain": [
       "pdf \n",
       "  2 "
      ]
     },
     "metadata": {},
     "output_type": "display_data"
    }
   ],
   "source": [
    "# Import datasets\n",
    "results <- read.csv(file = 'results.csv')\n",
    "events <- read.csv(file = 'events.csv')\n",
    "\n",
    "# Only consider half marathon races\n",
    "results <- results[results$Distance == 21, ]\n",
    "\n",
    "# Join tables\n",
    "events <- events %>% rename('Event_Id' = 'X') #change name of events id col name so they match in both tables for joining\n",
    "results <- left_join(events, results, by = 'Event_Id')\n",
    "\n",
    "# Convert date to time\n",
    "results$Time <- as.POSIXct(results$Time, format = \"%M:%S\") #convert to datetime\n",
    "results$Time <- as.ITime(results$Time) #convert to just time\n",
    "\n",
    "# Boxplot of half marathon speeds per each event \n",
    "jpeg(file=\"boxplot_event.jpeg\", res=100, width=1200, height=800) #saves result to jpeg\n",
    "results %>%\n",
    "ggplot(mapping = aes(x = Time, y = Event)) + # plot\n",
    "geom_boxplot() +\n",
    "xlab(\"Time\") + \n",
    "ylab(\"Event\") +\n",
    "theme(plot.title = element_text(size = 18, face = \"bold\", hjust = 0.5), \n",
    "      axis.title.x = element_text(size = 15, face = \"bold\"), \n",
    "      axis.title.y = element_text(size = 15, face = \"bold\"),\n",
    "      axis.text.x = element_text(size=13),\n",
    "      axis.text.y = element_text(size=13))\n",
    "dev.off()\n",
    "\n",
    "# Histogram of half marathon times depending on gender\n",
    "female_times <- results[results$Gender == 'Female',] # select just female times\n",
    "female_times <- female_times$Time #select times col\n",
    "male_times <- results[results$Gender == 'Male',] # select just male times\n",
    "male_times <- male_times$Time #select times col\n",
    "\n",
    "jpeg(file=\"hist_gender.jpeg\", res=100, width=1200, height=800) #saves result to jpeg\n",
    "hist(male_times, col='skyblue', border=F, breaks=100, xlab='Time (minutes)', main='Histogram of half marathon times in relation to gender.', xlim=c(60, 240), ylim=c(0, 100), xaxt='n', yaxt='n') #plots male\n",
    "hist(female_times, add=T,col=scales::alpha('red',.5), border=F, breaks=100) #plots female\n",
    "legend(\"topright\", inset=.05, title=\"Gender\", c(\"Female\",\"Male\"), fill=c('skyblue', col=scales::alpha('red',.5)))\n",
    "axis(side=1, at=seq(60,240, 20), labels=seq(60,240, 20))\n",
    "axis(side=2, at=seq(0, 100, 20), labels=seq(0, 100, 20))\n",
    "dev.off()"
   ]
  },
  {
   "cell_type": "code",
   "execution_count": null,
   "metadata": {},
   "outputs": [],
   "source": []
  }
 ],
 "metadata": {
  "kernelspec": {
   "display_name": "R",
   "language": "R",
   "name": "ir"
  },
  "language_info": {
   "codemirror_mode": "r",
   "file_extension": ".r",
   "mimetype": "text/x-r-source",
   "name": "R",
   "pygments_lexer": "r",
   "version": "4.2.1"
  }
 },
 "nbformat": 4,
 "nbformat_minor": 4
}
